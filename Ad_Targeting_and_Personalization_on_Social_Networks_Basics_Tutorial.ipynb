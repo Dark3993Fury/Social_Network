{
  "nbformat": 4,
  "nbformat_minor": 0,
  "metadata": {
    "colab": {
      "provenance": []
    },
    "kernelspec": {
      "name": "python3",
      "display_name": "Python 3"
    },
    "language_info": {
      "name": "python"
    },
    "widgets": {
      "application/vnd.jupyter.widget-state+json": {
        "37253494f03d43809f7d25cb58527e31": {
          "model_module": "@jupyter-widgets/controls",
          "model_name": "HBoxModel",
          "model_module_version": "1.5.0",
          "state": {
            "_dom_classes": [],
            "_model_module": "@jupyter-widgets/controls",
            "_model_module_version": "1.5.0",
            "_model_name": "HBoxModel",
            "_view_count": null,
            "_view_module": "@jupyter-widgets/controls",
            "_view_module_version": "1.5.0",
            "_view_name": "HBoxView",
            "box_style": "",
            "children": [
              "IPY_MODEL_1359e43637064747a9cbbfee592a6a24",
              "IPY_MODEL_da11580217d943a9bf7835a7363186eb",
              "IPY_MODEL_6341f42d6beb43659112b50c0b45e4e7"
            ],
            "layout": "IPY_MODEL_02df7d7e889248d88ccd68bb4a1f16b5"
          }
        },
        "1359e43637064747a9cbbfee592a6a24": {
          "model_module": "@jupyter-widgets/controls",
          "model_name": "HTMLModel",
          "model_module_version": "1.5.0",
          "state": {
            "_dom_classes": [],
            "_model_module": "@jupyter-widgets/controls",
            "_model_module_version": "1.5.0",
            "_model_name": "HTMLModel",
            "_view_count": null,
            "_view_module": "@jupyter-widgets/controls",
            "_view_module_version": "1.5.0",
            "_view_name": "HTMLView",
            "description": "",
            "description_tooltip": null,
            "layout": "IPY_MODEL_4594a597f9134d878c0797caf90357e1",
            "placeholder": "​",
            "style": "IPY_MODEL_af1fccf78f1d4cfea7449dd37b7e6ff9",
            "value": "Computing transition probabilities: 100%"
          }
        },
        "da11580217d943a9bf7835a7363186eb": {
          "model_module": "@jupyter-widgets/controls",
          "model_name": "FloatProgressModel",
          "model_module_version": "1.5.0",
          "state": {
            "_dom_classes": [],
            "_model_module": "@jupyter-widgets/controls",
            "_model_module_version": "1.5.0",
            "_model_name": "FloatProgressModel",
            "_view_count": null,
            "_view_module": "@jupyter-widgets/controls",
            "_view_module_version": "1.5.0",
            "_view_name": "ProgressView",
            "bar_style": "success",
            "description": "",
            "description_tooltip": null,
            "layout": "IPY_MODEL_c6592d69702e4088889fb7c4cb70ad5e",
            "max": 34,
            "min": 0,
            "orientation": "horizontal",
            "style": "IPY_MODEL_297d5644360547dca768218f37c752db",
            "value": 34
          }
        },
        "6341f42d6beb43659112b50c0b45e4e7": {
          "model_module": "@jupyter-widgets/controls",
          "model_name": "HTMLModel",
          "model_module_version": "1.5.0",
          "state": {
            "_dom_classes": [],
            "_model_module": "@jupyter-widgets/controls",
            "_model_module_version": "1.5.0",
            "_model_name": "HTMLModel",
            "_view_count": null,
            "_view_module": "@jupyter-widgets/controls",
            "_view_module_version": "1.5.0",
            "_view_name": "HTMLView",
            "description": "",
            "description_tooltip": null,
            "layout": "IPY_MODEL_bf64fe45e13842d8b56d29ee426b84b2",
            "placeholder": "​",
            "style": "IPY_MODEL_b2c823dbe5064123804b58444cf947db",
            "value": " 34/34 [00:00&lt;00:00, 435.81it/s]"
          }
        },
        "02df7d7e889248d88ccd68bb4a1f16b5": {
          "model_module": "@jupyter-widgets/base",
          "model_name": "LayoutModel",
          "model_module_version": "1.2.0",
          "state": {
            "_model_module": "@jupyter-widgets/base",
            "_model_module_version": "1.2.0",
            "_model_name": "LayoutModel",
            "_view_count": null,
            "_view_module": "@jupyter-widgets/base",
            "_view_module_version": "1.2.0",
            "_view_name": "LayoutView",
            "align_content": null,
            "align_items": null,
            "align_self": null,
            "border": null,
            "bottom": null,
            "display": null,
            "flex": null,
            "flex_flow": null,
            "grid_area": null,
            "grid_auto_columns": null,
            "grid_auto_flow": null,
            "grid_auto_rows": null,
            "grid_column": null,
            "grid_gap": null,
            "grid_row": null,
            "grid_template_areas": null,
            "grid_template_columns": null,
            "grid_template_rows": null,
            "height": null,
            "justify_content": null,
            "justify_items": null,
            "left": null,
            "margin": null,
            "max_height": null,
            "max_width": null,
            "min_height": null,
            "min_width": null,
            "object_fit": null,
            "object_position": null,
            "order": null,
            "overflow": null,
            "overflow_x": null,
            "overflow_y": null,
            "padding": null,
            "right": null,
            "top": null,
            "visibility": null,
            "width": null
          }
        },
        "4594a597f9134d878c0797caf90357e1": {
          "model_module": "@jupyter-widgets/base",
          "model_name": "LayoutModel",
          "model_module_version": "1.2.0",
          "state": {
            "_model_module": "@jupyter-widgets/base",
            "_model_module_version": "1.2.0",
            "_model_name": "LayoutModel",
            "_view_count": null,
            "_view_module": "@jupyter-widgets/base",
            "_view_module_version": "1.2.0",
            "_view_name": "LayoutView",
            "align_content": null,
            "align_items": null,
            "align_self": null,
            "border": null,
            "bottom": null,
            "display": null,
            "flex": null,
            "flex_flow": null,
            "grid_area": null,
            "grid_auto_columns": null,
            "grid_auto_flow": null,
            "grid_auto_rows": null,
            "grid_column": null,
            "grid_gap": null,
            "grid_row": null,
            "grid_template_areas": null,
            "grid_template_columns": null,
            "grid_template_rows": null,
            "height": null,
            "justify_content": null,
            "justify_items": null,
            "left": null,
            "margin": null,
            "max_height": null,
            "max_width": null,
            "min_height": null,
            "min_width": null,
            "object_fit": null,
            "object_position": null,
            "order": null,
            "overflow": null,
            "overflow_x": null,
            "overflow_y": null,
            "padding": null,
            "right": null,
            "top": null,
            "visibility": null,
            "width": null
          }
        },
        "af1fccf78f1d4cfea7449dd37b7e6ff9": {
          "model_module": "@jupyter-widgets/controls",
          "model_name": "DescriptionStyleModel",
          "model_module_version": "1.5.0",
          "state": {
            "_model_module": "@jupyter-widgets/controls",
            "_model_module_version": "1.5.0",
            "_model_name": "DescriptionStyleModel",
            "_view_count": null,
            "_view_module": "@jupyter-widgets/base",
            "_view_module_version": "1.2.0",
            "_view_name": "StyleView",
            "description_width": ""
          }
        },
        "c6592d69702e4088889fb7c4cb70ad5e": {
          "model_module": "@jupyter-widgets/base",
          "model_name": "LayoutModel",
          "model_module_version": "1.2.0",
          "state": {
            "_model_module": "@jupyter-widgets/base",
            "_model_module_version": "1.2.0",
            "_model_name": "LayoutModel",
            "_view_count": null,
            "_view_module": "@jupyter-widgets/base",
            "_view_module_version": "1.2.0",
            "_view_name": "LayoutView",
            "align_content": null,
            "align_items": null,
            "align_self": null,
            "border": null,
            "bottom": null,
            "display": null,
            "flex": null,
            "flex_flow": null,
            "grid_area": null,
            "grid_auto_columns": null,
            "grid_auto_flow": null,
            "grid_auto_rows": null,
            "grid_column": null,
            "grid_gap": null,
            "grid_row": null,
            "grid_template_areas": null,
            "grid_template_columns": null,
            "grid_template_rows": null,
            "height": null,
            "justify_content": null,
            "justify_items": null,
            "left": null,
            "margin": null,
            "max_height": null,
            "max_width": null,
            "min_height": null,
            "min_width": null,
            "object_fit": null,
            "object_position": null,
            "order": null,
            "overflow": null,
            "overflow_x": null,
            "overflow_y": null,
            "padding": null,
            "right": null,
            "top": null,
            "visibility": null,
            "width": null
          }
        },
        "297d5644360547dca768218f37c752db": {
          "model_module": "@jupyter-widgets/controls",
          "model_name": "ProgressStyleModel",
          "model_module_version": "1.5.0",
          "state": {
            "_model_module": "@jupyter-widgets/controls",
            "_model_module_version": "1.5.0",
            "_model_name": "ProgressStyleModel",
            "_view_count": null,
            "_view_module": "@jupyter-widgets/base",
            "_view_module_version": "1.2.0",
            "_view_name": "StyleView",
            "bar_color": null,
            "description_width": ""
          }
        },
        "bf64fe45e13842d8b56d29ee426b84b2": {
          "model_module": "@jupyter-widgets/base",
          "model_name": "LayoutModel",
          "model_module_version": "1.2.0",
          "state": {
            "_model_module": "@jupyter-widgets/base",
            "_model_module_version": "1.2.0",
            "_model_name": "LayoutModel",
            "_view_count": null,
            "_view_module": "@jupyter-widgets/base",
            "_view_module_version": "1.2.0",
            "_view_name": "LayoutView",
            "align_content": null,
            "align_items": null,
            "align_self": null,
            "border": null,
            "bottom": null,
            "display": null,
            "flex": null,
            "flex_flow": null,
            "grid_area": null,
            "grid_auto_columns": null,
            "grid_auto_flow": null,
            "grid_auto_rows": null,
            "grid_column": null,
            "grid_gap": null,
            "grid_row": null,
            "grid_template_areas": null,
            "grid_template_columns": null,
            "grid_template_rows": null,
            "height": null,
            "justify_content": null,
            "justify_items": null,
            "left": null,
            "margin": null,
            "max_height": null,
            "max_width": null,
            "min_height": null,
            "min_width": null,
            "object_fit": null,
            "object_position": null,
            "order": null,
            "overflow": null,
            "overflow_x": null,
            "overflow_y": null,
            "padding": null,
            "right": null,
            "top": null,
            "visibility": null,
            "width": null
          }
        },
        "b2c823dbe5064123804b58444cf947db": {
          "model_module": "@jupyter-widgets/controls",
          "model_name": "DescriptionStyleModel",
          "model_module_version": "1.5.0",
          "state": {
            "_model_module": "@jupyter-widgets/controls",
            "_model_module_version": "1.5.0",
            "_model_name": "DescriptionStyleModel",
            "_view_count": null,
            "_view_module": "@jupyter-widgets/base",
            "_view_module_version": "1.2.0",
            "_view_name": "StyleView",
            "description_width": ""
          }
        }
      }
    }
  },
  "cells": [
    {
      "cell_type": "markdown",
      "source": [
        "# Advanced Ad Targeting and Personalization on Social Networks: Syllabus\n",
        "\n",
        "\n",
        "\n",
        "**Course Outline:**\n",
        "\n",
        "***Module 1: Introduction to Social Network Advertising and Personalization***\n",
        "\n",
        "•\tOverview of social network advertising ecosystem\n",
        "•\tTargeting strategies and personalization challenges\n",
        "•\tMetrics and evaluation methods for success\n",
        "•\tCase studies of successful social network ad campaigns\n",
        "•\n",
        "***Module 2: Graph Representation and Network Analysis with NetworkX***\n",
        "•\tNetwork basics: nodes, edges, and graph properties\n",
        "•\tBuilding and manipulating graphs with NetworkX\n",
        "•\tCommunity detection and network centrality measures\n",
        "•\tFeature engineering with network data\n",
        "\n",
        "***Module 3: Node Embedding: Representing Users and Entities with node2vec***\n",
        "•\tConcept of node embedding and dimensionality reduction\n",
        "•\tnode2vec algorithm: exploring neighborhood and homophily\n",
        "•\tLearning node representations with node2vec and its variants\n",
        "•\tEvaluating and using node embeddings for downstream tasks\n",
        "\n",
        "***Module 4: Deep Learning for Social Networks: Graph Convolutional Networks (GCNs)***\n",
        "•\tIntroduction to GCNs: Architecture and message passing\n",
        "•\tLearning node representations with GCN layers\n",
        "•\tApplications of GCNs in social network analysis and ad targeting\n",
        "•\tCase studies of successful GCN-based systems\n",
        "\n",
        "***Module 5: Modeling User Behavior and Predicting Interactions with RNNs ***\n",
        "•\tRecurrent Neural Networks (RNNs) and LSTM networks\n",
        "•\tModeling user sequences and predicting future actions\n",
        "•\tRNN applications in social network personalization and recommendation systems\n",
        "•\tTechniques for handling long-term dependencies and vanishing gradients\n",
        "\n",
        "***Module 6: Autoencoders and User Preference Modeling:***\n",
        "•\tAutoencoders for encoding and decoding user preferences\n",
        "•\tCollaborative filtering and matrix factorization techniques\n",
        "•\tCombining autoencoders with other models for personalized recommendations\n",
        "•\tCase studies of effective recommendation systems using autoencoders\n",
        "\n",
        "***Module 7: Ethical and Privacy Considerations in Social Network Targeting and Personalization***\n",
        "•\tData privacy and user consent implications\n",
        "•\tBias mitigation and fair advertising practices\n",
        "•\tExplainability and transparency in recommendation systems\n",
        "•\tResponsible research and development in the field\n",
        "\n",
        "***Module 8: Advanced Topics and Research Frontiers***\n",
        "•\tAttention mechanisms and self-supervised learning for social networks\n",
        "•\tExplainable AI and interpretable models for personalized experiences\n",
        "•\tMulti-objective optimization and balancing competing goals\n",
        "•\tEmerging trends and future directions in the field\n",
        "\n",
        "\n"
      ],
      "metadata": {
        "id": "x9jCsiiXLAOY"
      }
    },
    {
      "cell_type": "markdown",
      "source": [
        "# Tutorial"
      ],
      "metadata": {
        "id": "xtIFuZEPSFxN"
      }
    },
    {
      "cell_type": "code",
      "source": [
        "import networkx as nx\n",
        "import matplotlib.pyplot as plt"
      ],
      "metadata": {
        "id": "xHF6ZanvTRzA"
      },
      "execution_count": null,
      "outputs": []
    },
    {
      "cell_type": "code",
      "source": [
        "def create_neural_network():\n",
        "    # Create a simple neural network structure\n",
        "    G = nx.DiGraph()\n",
        "\n",
        "    # Input layer\n",
        "    G.add_node(\"Input1\", layer=\"input\")\n",
        "    G.add_node(\"Input2\", layer=\"input\")\n",
        "\n",
        "    # Hidden layers\n",
        "    G.add_node(\"Hidden1\", layer=\"hidden\")\n",
        "    G.add_node(\"Hidden2\", layer=\"hidden\")\n",
        "\n",
        "    # Output layer\n",
        "    G.add_node(\"Output\", layer=\"output\")\n",
        "\n",
        "    # Connect nodes with edges\n",
        "    G.add_edges_from([\n",
        "        (\"Input1\", \"Hidden1\"),\n",
        "        (\"Input1\", \"Hidden2\"),\n",
        "        (\"Input2\", \"Hidden1\"),\n",
        "        (\"Input2\", \"Hidden2\"),\n",
        "        (\"Hidden1\", \"Output\"),\n",
        "        (\"Hidden2\", \"Output\"),\n",
        "    ])\n",
        "\n",
        "    return G\n"
      ],
      "metadata": {
        "id": "3-88eJ8pTTn4"
      },
      "execution_count": null,
      "outputs": []
    },
    {
      "cell_type": "code",
      "source": [
        "def visualize_neural_network(graph):\n",
        "    pos = nx.spring_layout(graph)\n",
        "    nx.draw(graph, pos, with_labels=True, font_weight='bold', node_color=\"skyblue\", node_size=1500, arrowsize=20)\n",
        "    plt.show()\n"
      ],
      "metadata": {
        "id": "NHmupG6Xe5Ju"
      },
      "execution_count": null,
      "outputs": []
    },
    {
      "cell_type": "code",
      "source": [
        "def analyze_neural_network(graph):\n",
        "    print(\"Number of nodes:\", graph.number_of_nodes())\n",
        "    print(\"Number of edges:\", graph.number_of_edges())\n",
        "    print(\"Nodes:\", list(graph.nodes()))\n",
        "    print(\"Edges:\", list(graph.edges()))"
      ],
      "metadata": {
        "id": "bAHT5bRPe5fR"
      },
      "execution_count": null,
      "outputs": []
    },
    {
      "cell_type": "code",
      "source": [
        "if __name__ == \"__main__\":\n",
        "    # Create a neural network graph\n",
        "    neural_network_graph = create_neural_network()\n",
        "\n",
        "    # Visualize the neural network graph\n",
        "    visualize_neural_network(neural_network_graph)\n",
        "\n",
        "    # Analyze the neural network graph\n",
        "    analyze_neural_network(neural_network_graph)"
      ],
      "metadata": {
        "colab": {
          "base_uri": "https://localhost:8080/",
          "height": 585
        },
        "id": "W8xdDY50MSx5",
        "outputId": "a95a4ef7-7584-47ed-af5c-4abe9af1f3f8"
      },
      "execution_count": null,
      "outputs": [
        {
          "output_type": "display_data",
          "data": {
            "text/plain": [
              "<Figure size 640x480 with 1 Axes>"
            ],
            "image/png": "[encoded data removed]"
          },
          "metadata": {}
        },
        {
          "output_type": "stream",
          "name": "stdout",
          "text": [
            "Number of nodes: 5\n",
            "Number of edges: 6\n",
            "Nodes: ['Input1', 'Input2', 'Hidden1', 'Hidden2', 'Output']\n",
            "Edges: [('Input1', 'Hidden1'), ('Input1', 'Hidden2'), ('Input2', 'Hidden1'), ('Input2', 'Hidden2'), ('Hidden1', 'Output'), ('Hidden2', 'Output')]\n"
          ]
        }
      ]
    },
    {
      "cell_type": "code",
      "source": [],
      "metadata": {
        "id": "ETTbOrDdMVFV"
      },
      "execution_count": null,
      "outputs": []
    },
    {
      "cell_type": "markdown",
      "source": [
        "# Module 2 : Graph Representation and Network Analysis with NetworkX\n",
        "\n",
        "*   Network basics: nodes, edges, and graph properties\n",
        "*   Building and manipulating graphs with NetworkX\n",
        "*   Community detection and network centrality measures\n",
        "*   Feature engineering with network data\n",
        "\n",
        "\n",
        "\n",
        "\n",
        "\n"
      ],
      "metadata": {
        "id": "fzZTjp-bNkNl"
      }
    },
    {
      "cell_type": "code",
      "source": [
        "import networkx as nx\n",
        "import matplotlib.pyplot as plt"
      ],
      "metadata": {
        "id": "GR7KFxCDN_3_"
      },
      "execution_count": null,
      "outputs": []
    },
    {
      "cell_type": "code",
      "source": [
        "# Create an undirected graph\n",
        "G = nx.Graph()\n",
        "\n",
        "# Add nodes\n",
        "G.add_nodes_from([1, 2, 3, 4, 5])\n",
        "\n",
        "# Add edges\n",
        "G.add_edges_from([(1, 2), (1, 3), (2, 4), (3, 5), (4, 5)])\n"
      ],
      "metadata": {
        "id": "9AFnRSrBOEz8"
      },
      "execution_count": null,
      "outputs": []
    },
    {
      "cell_type": "code",
      "source": [
        "# Display basic graph properties\n",
        "print(\"Number of nodes:\", G.number_of_nodes())\n",
        "print(\"Number of edges:\", G.number_of_edges())\n",
        "print(\"Nodes:\", list(G.nodes()))\n",
        "print(\"Edges:\", list(G.edges()))"
      ],
      "metadata": {
        "colab": {
          "base_uri": "https://localhost:8080/"
        },
        "id": "zz3jZk4POIJb",
        "outputId": "6e51f30d-a085-4064-ed51-4e961f1c430a"
      },
      "execution_count": null,
      "outputs": [
        {
          "output_type": "stream",
          "name": "stdout",
          "text": [
            "Number of nodes: 5\n",
            "Number of edges: 5\n",
            "Nodes: [1, 2, 3, 4, 5]\n",
            "Edges: [(1, 2), (1, 3), (2, 4), (3, 5), (4, 5)]\n"
          ]
        }
      ]
    },
    {
      "cell_type": "code",
      "source": [
        "# Visualize the graph\n",
        "nx.draw(G, with_labels=True, font_weight='bold', node_color=\"skyblue\", node_size=1000, edge_color=\"gray\", font_color=\"black\")\n",
        "plt.title(\"Graph Representation\")\n",
        "plt.show()\n"
      ],
      "metadata": {
        "colab": {
          "base_uri": "https://localhost:8080/",
          "height": 539
        },
        "id": "Jd9KtewrOKIM",
        "outputId": "12766c5b-d3bf-4389-93ba-71f622de83b1"
      },
      "execution_count": null,
      "outputs": [
        {
          "output_type": "display_data",
          "data": {
            "text/plain": [
              "<Figure size 640x480 with 1 Axes>"
            ],
            "image/png": "[encoded data removed]"
          },
          "metadata": {}
        }
      ]
    },
    {
      "cell_type": "markdown",
      "source": [
        "**Network Analysis**\n",
        "\n"
      ],
      "metadata": {
        "id": "XzIFtKr7OQ6M"
      }
    },
    {
      "cell_type": "markdown",
      "source": [
        "\n",
        "**Degree centrality is a measure of a node's importance or influence within a network. It's determined by counting the number of direct connections (edges) a node has to other nodes.**\n",
        "\n",
        "**Here's the code you provided, with a breakdown:**\n",
        "\n",
        "```python\n",
        "# Degree centrality\n",
        "degree_centrality = nx.degree_centrality(G)\n",
        "print(\"Degree Centrality:\", degree_centrality)\n",
        "```\n",
        "\n",
        "1. **Import NetworkX:** This assumes you've already imported the NetworkX library with `import networkx as nx`.\n",
        "2. **Calculate Degree Centrality:**\n",
        "   - `nx.degree_centrality(G)` calculates the degree centrality for each node in the graph `G`.\n",
        "   - It returns a dictionary where keys are node names and values are their corresponding degree centrality scores (between 0 and 1).\n",
        "3. **Print Results:**\n",
        "   - `print(\"Degree Centrality:\", degree_centrality)` displays the degree centrality for each node.\n",
        "\n",
        "**Example:**\n",
        "\n",
        "Imagine a social network of friends:\n",
        "\n",
        "- Alice (A) is friends with Bob (B), Charlie (C), and David (D).\n",
        "- Bob (B) is friends with Alice (A) and Charlie (C).\n",
        "- Charlie (C) is friends with Alice (A), Bob (B), and Emily (E).\n",
        "- David (D) is only friends with Alice (A).\n",
        "- Emily (E) is only friends with Charlie (C).\n",
        "\n",
        "The degree centrality scores would be:\n",
        "\n",
        "```\n",
        "Degree Centrality: {'A': 0.8, 'B': 0.6, 'C': 0.8, 'D': 0.2, 'E': 0.2}\n",
        "```\n",
        "\n",
        "- Alice (A) and Charlie (C) have the highest degree centrality (0.8), indicating they are the most well-connected individuals in the network.\n",
        "- Bob (B) has a moderate degree centrality (0.6).\n",
        "- David (D) and Emily (E) have the lowest degree centrality (0.2), suggesting they are less central to the network.\n",
        "\n",
        "**Interpretation:**\n",
        "\n",
        "- High degree centrality often suggests a node is:\n",
        "   - Well-connected and influential.\n",
        "   - Able to spread information quickly.\n",
        "   - Likely to be a key player in the network.\n",
        "- Low degree centrality might indicate a node is:\n",
        "   - Less connected or peripheral.\n",
        "   - Potentially isolated or less influential.\n",
        "\n",
        "**Remember:**\n",
        "\n",
        "- Degree centrality is just one measure of centrality. Others include betweenness centrality and closeness centrality.\n",
        "- The most appropriate centrality measure depends on the specific network analysis task.\n"
      ],
      "metadata": {
        "id": "B0LqawX3QNoF"
      }
    },
    {
      "cell_type": "code",
      "source": [
        "# Degree centrality\n",
        "degree_centrality = nx.degree_centrality(G)\n",
        "print(\"Degree Centrality:\", degree_centrality)"
      ],
      "metadata": {
        "colab": {
          "base_uri": "https://localhost:8080/"
        },
        "id": "hbJktlI-OMuV",
        "outputId": "f832ae69-5ce4-4a61-cae0-2409aaeeca5c"
      },
      "execution_count": null,
      "outputs": [
        {
          "output_type": "stream",
          "name": "stdout",
          "text": [
            "Degree Centrality: {1: 0.5, 2: 0.5, 3: 0.5, 4: 0.5, 5: 0.5}\n"
          ]
        }
      ]
    },
    {
      "cell_type": "markdown",
      "source": [
        "\n",
        "**Betweenness centrality measures how often a node lies on the shortest paths between other nodes in a network. It highlights nodes that act as bridges or gatekeepers, controlling the flow of information or resources.**\n",
        "\n",
        "**Breakdown of the code:**\n",
        "\n",
        "```python\n",
        "# Betweenness centrality\n",
        "betweenness_centrality = nx.betweenness_centrality(G)\n",
        "print(\"Betweenness Centrality:\", betweenness_centrality)\n",
        "```\n",
        "\n",
        "1. **Import NetworkX:** Assumes you've already imported NetworkX.\n",
        "2. **Calculate Betweenness Centrality:**\n",
        "   - `nx.betweenness_centrality(G)` calculates the betweenness centrality for each node in the graph `G`.\n",
        "   - Returns a dictionary mapping nodes to their scores.\n",
        "3. **Print Results:**\n",
        "   - `print(\"Betweenness Centrality:\", betweenness_centrality)` displays the results.\n",
        "\n",
        "**Example:**\n",
        "\n",
        "Consider a communication network in a company:\n",
        "\n",
        "- Alice (A) is the CEO, connected to Bob (B) and David (D).\n",
        "- Bob (B) is a manager, connected to Alice (A), Charlie (C), and Emily (E).\n",
        "- Charlie (C) and Emily (E) are employees, each connected only to Bob (B).\n",
        "- David (D) is a consultant, connected only to Alice (A).\n",
        "\n",
        "**Betweenness Centrality:**\n",
        "\n",
        "```\n",
        "Betweenness Centrality: {'A': 0.0, 'B': 1.0, 'C': 0.0, 'D': 0.0, 'E': 0.0}\n",
        "```\n",
        "\n",
        "**Interpretation:**\n",
        "\n",
        "- Bob (B) has the highest betweenness centrality (1.0), indicating he's a critical bridge for communication between different parts of the network.\n",
        "- Alice (A), Charlie (C), David (D), and Emily (E) have zero betweenness centrality, as they don't lie on any shortest paths between other pairs of nodes.\n",
        "\n",
        "**Key Points:**\n",
        "\n",
        "- High betweenness centrality suggests a node:\n",
        "    - Controls the flow of information or resources.\n",
        "    - Could potentially disrupt communication if removed.\n",
        "    - Might be influential in mediating interactions.\n",
        "- Low betweenness centrality indicates a node is more peripheral.\n",
        "\n",
        "**Considerations:**\n",
        "\n",
        "- Betweenness centrality is computationally expensive to calculate for large networks.\n",
        "- It's sensitive to changes in network structure (adding or removing nodes/edges).\n",
        "- Consider the specific network context and analysis goals when interpreting results.\n"
      ],
      "metadata": {
        "id": "GXSwo9uARKoI"
      }
    },
    {
      "cell_type": "code",
      "source": [
        "# Betweenness centrality\n",
        "betweenness_centrality = nx.betweenness_centrality(G)\n",
        "print(\"Betweenness Centrality:\", betweenness_centrality)"
      ],
      "metadata": {
        "colab": {
          "base_uri": "https://localhost:8080/"
        },
        "id": "LTI_ApadOXPz",
        "outputId": "9b633c1e-1047-4272-baaf-4828af4a1ff4"
      },
      "execution_count": null,
      "outputs": [
        {
          "output_type": "stream",
          "name": "stdout",
          "text": [
            "Betweenness Centrality: {1: 0.16666666666666666, 2: 0.16666666666666666, 3: 0.16666666666666666, 4: 0.16666666666666666, 5: 0.16666666666666666}\n"
          ]
        }
      ]
    },
    {
      "cell_type": "markdown",
      "source": [
        "\n",
        "**Clustering coefficient measures the tendency of nodes to cluster together in a network. It captures how interconnected a node's neighbors are, quantifying the degree to which they form a tight-knit community.**\n",
        "\n",
        "**Breaking down the code:**\n",
        "\n",
        "```python\n",
        "# Clustering coefficient\n",
        "clustering_coefficient = nx.clustering(G)\n",
        "print(\"Clustering Coefficient:\", clustering_coefficient)\n",
        "```\n",
        "\n",
        "1. **Import NetworkX:** Assumes you've already imported NetworkX.\n",
        "2. **Calculate Clustering Coefficient:**\n",
        "   - `nx.clustering(G)` calculates the clustering coefficient for each node in the graph `G`.\n",
        "   - Returns a dictionary mapping nodes to their clustering coefficient values (between 0 and 1).\n",
        "3. **Print Results:**\n",
        "   - `print(\"Clustering Coefficient:\", clustering_coefficient)` displays the results.\n",
        "\n",
        "**Example:**\n",
        "\n",
        "Imagine a friendship network:\n",
        "\n",
        "- Alice (A) is friends with Bob (B), Charlie (C), and David (D).\n",
        "- Bob (B) is friends with Alice (A), Charlie (C), and Emily (E).\n",
        "- Charlie (C) is friends with Alice (A), Bob (B), and Emily (E).\n",
        "- David (D) is only friends with Alice (A).\n",
        "- Emily (E) is only friends with Bob (C) and Charlie (C).\n",
        "\n",
        "**Clustering Coefficient:**\n",
        "\n",
        "```\n",
        "Clustering Coefficient: {'A': 0.0, 'B': 1.0, 'C': 1.0, 'D': 0.0, 'E': 1.0}\n",
        "```\n",
        "\n",
        "**Interpretation:**\n",
        "\n",
        "- Bob (B), Charlie (C), and Emily (E) have a clustering coefficient of 1.0, indicating their friends are all friends with each other, forming tight-knit triangles.\n",
        "- Alice (A) and David (D) have a clustering coefficient of 0.0, as their friends are not connected to each other.\n",
        "\n",
        "**Key Points:**\n",
        "\n",
        "- High clustering coefficient suggests:\n",
        "    - Strong local connections and a tendency for cliques or communities.\n",
        "    - Efficient information diffusion and trust within clusters.\n",
        "- Low clustering coefficient implies:\n",
        "    - Less interconnected neighborhoods and potentially more dispersed relationships.\n",
        "\n",
        "**Considerations:**\n",
        "\n",
        "- Global clustering coefficient measures the overall clustering tendency of the entire network.\n",
        "- Clustering coefficient is sensitive to network density (number of edges).\n",
        "- Consider the specific network context and analysis goals when interpreting results.\n"
      ],
      "metadata": {
        "id": "jHesgYqNRaeK"
      }
    },
    {
      "cell_type": "code",
      "source": [
        "# Clustering coefficient\n",
        "clustering_coefficient = nx.clustering(G)\n",
        "print(\"Clustering Coefficient:\", clustering_coefficient)"
      ],
      "metadata": {
        "colab": {
          "base_uri": "https://localhost:8080/"
        },
        "id": "ur4KRaLJOZt4",
        "outputId": "b4aeaa20-e989-4fe1-d0f7-afcf3eed01ac"
      },
      "execution_count": null,
      "outputs": [
        {
          "output_type": "stream",
          "name": "stdout",
          "text": [
            "Clustering Coefficient: {1: 0, 2: 0, 3: 0, 4: 0, 5: 0}\n"
          ]
        }
      ]
    },
    {
      "cell_type": "markdown",
      "source": [
        "**Community Detection**"
      ],
      "metadata": {
        "id": "r86k8tTcOfMx"
      }
    },
    {
      "cell_type": "code",
      "source": [
        "\"\"\"\n",
        "# Louvain community detection\n",
        "\n",
        "louvain_communities = nx.community.best_partition(G)\n",
        "print(\"Louvain Communities:\", louvain_communities)\n",
        "\"\"\""
      ],
      "metadata": {
        "colab": {
          "base_uri": "https://localhost:8080/",
          "height": 35
        },
        "id": "7PMcmOf6ObV9",
        "outputId": "f3e46204-ac7d-4b40-99f5-6e6e68b13872"
      },
      "execution_count": null,
      "outputs": [
        {
          "output_type": "execute_result",
          "data": {
            "text/plain": [
              "'\\n# Louvain community detection\\n\\nlouvain_communities = nx.community.best_partition(G)\\nprint(\"Louvain Communities:\", louvain_communities)\\n'"
            ],
            "application/vnd.google.colaboratory.intrinsic+json": {
              "type": "string"
            }
          },
          "metadata": {},
          "execution_count": 26
        }
      ]
    },
    {
      "cell_type": "markdown",
      "source": [
        "**Network Centrality Measures**"
      ],
      "metadata": {
        "id": "il_Am69rOmqt"
      }
    },
    {
      "cell_type": "markdown",
      "source": [
        "\n",
        "**Eigenvector centrality measures a node's influence in a network based on the idea that connections to high-scoring nodes contribute more to a node's importance than connections to low-scoring nodes. It captures the notion that a node's centrality depends not only on the number of its neighbors but also on the importance of those neighbors.**\n",
        "\n",
        "**Breaking down the code:**\n",
        "\n",
        "```python\n",
        "# Eigenvector centrality\n",
        "eigenvector_centrality = nx.eigenvector_centrality(G)\n",
        "print(\"Eigenvector Centrality:\", eigenvector_centrality)\n",
        "```\n",
        "\n",
        "1. **Import NetworkX:** Assumes you've already imported NetworkX.\n",
        "2. **Calculate Eigenvector Centrality:**\n",
        "   - `nx.eigenvector_centrality(G)` calculates the eigenvector centrality for each node in the graph `G`.\n",
        "   - Returns a dictionary mapping nodes to their eigenvector centrality scores.\n",
        "3. **Print Results:**\n",
        "   - `print(\"Eigenvector Centrality:\", eigenvector_centrality)` displays the results.\n",
        "\n",
        "**Example:**\n",
        "\n",
        "Consider a small social network:\n",
        "\n",
        "- Alice (A) is connected to Bob (B) and Charlie (C).\n",
        "- Bob (B) is connected to Alice (A), Charlie (C), and David (D).\n",
        "- Charlie (C) is connected to Alice (A), Bob (B), and Emily (E).\n",
        "- David (D) is connected only to Bob (B).\n",
        "- Emily (E) is connected only to Charlie (C).\n",
        "\n",
        "**Eigenvector Centrality:**\n",
        "\n",
        "```\n",
        "Eigenvector Centrality: {'A': 0.455, 'B': 0.545, 'C': 0.545, 'D': 0.335, 'E': 0.335}\n",
        "```\n",
        "\n",
        "**Interpretation:**\n",
        "\n",
        "- Bob (B) and Charlie (C) have the highest eigenvector centrality (0.545), indicating they are the most influential nodes in the network, as they are connected to each other and to other well-connected nodes.\n",
        "- Alice (A) has a moderate score (0.455), benefiting from connections to Bob and Charlie.\n",
        "- David (D) and Emily (E) have lower scores (0.335), as they are connected to less influential nodes.\n",
        "\n",
        "**Key Points:**\n",
        "\n",
        "- High eigenvector centrality suggests a node:\n",
        "    - Is well-connected to other influential nodes.\n",
        "    - Holds a central position in the network's structure.\n",
        "    - May have significant influence or visibility.\n",
        "- Low eigenvector centrality indicates a node is less connected to influential nodes.\n",
        "\n",
        "**Considerations:**\n",
        "\n",
        "- Eigenvector centrality is sensitive to the initial weights assigned to nodes.\n",
        "- It can be computationally expensive for large networks.\n",
        "- It's best suited for networks with well-defined, non-random structures.\n",
        "- Consider the specific network context and analysis goals when interpreting results.\n"
      ],
      "metadata": {
        "id": "VJZkEmSrRpgI"
      }
    },
    {
      "cell_type": "code",
      "source": [
        "# Eigenvector centrality\n",
        "eigenvector_centrality = nx.eigenvector_centrality(G)\n",
        "print(\"Eigenvector Centrality:\", eigenvector_centrality)"
      ],
      "metadata": {
        "colab": {
          "base_uri": "https://localhost:8080/"
        },
        "id": "161YJDzkOiQA",
        "outputId": "1b06b105-ee0e-41f9-c51d-561f827bf67c"
      },
      "execution_count": null,
      "outputs": [
        {
          "output_type": "stream",
          "name": "stdout",
          "text": [
            "Eigenvector Centrality: {1: 0.4472135954999579, 2: 0.4472135954999579, 3: 0.4472135954999579, 4: 0.4472135954999579, 5: 0.4472135954999579}\n"
          ]
        }
      ]
    },
    {
      "cell_type": "markdown",
      "source": [
        " **Here's an explanation of closeness centrality with an example:**\n",
        "\n",
        "**Closeness centrality measures how quickly a node can reach all other nodes in a network. It reflects how close a node is to the \"center\" of the network in terms of shortest path distances.**\n",
        "\n",
        "**Breaking down the code:**\n",
        "\n",
        "```python\n",
        "# Closeness centrality\n",
        "closeness_centrality = nx.closeness_centrality(G)\n",
        "print(\"Closeness Centrality:\", closeness_centrality)\n",
        "```\n",
        "\n",
        "1. **Import NetworkX:** Assumes you've already imported NetworkX.\n",
        "2. **Calculate Closeness Centrality:**\n",
        "   - `nx.closeness_centrality(G)` calculates the closeness centrality for each node in the graph `G`.\n",
        "   - Returns a dictionary mapping nodes to their closeness centrality scores (normalized between 0 and 1).\n",
        "3. **Print Results:**\n",
        "   - `print(\"Closeness Centrality:\", closeness_centrality)` displays the results.\n",
        "\n",
        "**Example:**\n",
        "\n",
        "Consider a small communication network:\n",
        "\n",
        "- Alice (A) is connected to Bob (B) and Charlie (C).\n",
        "- Bob (B) is connected to Alice (A), Charlie (C), and David (D).\n",
        "- Charlie (C) is connected to Alice (A), Bob (B), and Emily (E).\n",
        "- David (D) is connected only to Bob (B).\n",
        "- Emily (E) is connected only to Charlie (C).\n",
        "\n",
        "**Closeness Centrality:**\n",
        "\n",
        "\n",
        "Closeness Centrality: {'A': 0.75, 'B': 1.0, 'C': 1.0, 'D': 0.6666666666666666, 'E': 0.6666666666666666}\n",
        "\n",
        "\n",
        "**Interpretation:**\n",
        "\n",
        "- Bob (B) and Charlie (C) have the highest closeness centrality (1.0), indicating they can reach all other nodes in the network with the shortest paths (only one step).\n",
        "- Alice (A) has a slightly lower score (0.75), as she needs two steps to reach David (D) and Emily (E).\n",
        "- David (D) and Emily (E) have the lowest scores (0.6666666666666666), as they are at the periphery of the network and require two steps to reach most other nodes.\n",
        "\n",
        "**Key Points:**\n",
        "\n",
        "- High closeness centrality suggests a node:\n",
        "    - Can quickly spread information or influence throughout the network.\n",
        "    - May be well-positioned to receive information from others.\n",
        "    - Is often central to the network's communication structure.\n",
        "- Low closeness centrality indicates a node is more peripheral and less connected to others.\n",
        "\n",
        "**Considerations:**\n",
        "\n",
        "- Closeness centrality is sensitive to disconnected components in the network.\n",
        "- It can be computationally expensive to calculate for large networks.\n",
        "- Consider the specific network context and analysis goals when interpreting results.\n"
      ],
      "metadata": {
        "id": "33f5xyjVR-jq"
      }
    },
    {
      "cell_type": "code",
      "source": [
        "# Closeness centrality\n",
        "closeness_centrality = nx.closeness_centrality(G)\n",
        "print(\"Closeness Centrality:\", closeness_centrality)"
      ],
      "metadata": {
        "colab": {
          "base_uri": "https://localhost:8080/"
        },
        "id": "6ooCuFCEOpr9",
        "outputId": "f3bedd90-b910-49b5-87a6-4c83f6c66dc9"
      },
      "execution_count": null,
      "outputs": [
        {
          "output_type": "stream",
          "name": "stdout",
          "text": [
            "Closeness Centrality: {1: 0.6666666666666666, 2: 0.6666666666666666, 3: 0.6666666666666666, 4: 0.6666666666666666, 5: 0.6666666666666666}\n"
          ]
        }
      ]
    },
    {
      "cell_type": "markdown",
      "source": [
        "**Feature Engineering with Network Data**"
      ],
      "metadata": {
        "id": "e7kJTw8tOu1-"
      }
    },
    {
      "cell_type": "code",
      "source": [
        "# Add node attribute\n",
        "nx.set_node_attributes(G, {1: {'label': 'A'}, 2: {'label': 'B'}, 3: {'label': 'C'},\n",
        "                            4: {'label': 'D'}, 5: {'label': 'E'}}, 'label')\n"
      ],
      "metadata": {
        "id": "yrrqcooZOsDc"
      },
      "execution_count": null,
      "outputs": []
    },
    {
      "cell_type": "code",
      "source": [
        "# Visualize the graph with node labels\n",
        "labels = nx.get_node_attributes(G, 'label')\n",
        "nx.draw(G, with_labels=True, labels=labels, font_weight='bold', node_color=\"skyblue\", node_size=1000, edge_color=\"gray\", font_color=\"black\")\n",
        "plt.title(\"Graph with Node Labels\")\n",
        "plt.show()"
      ],
      "metadata": {
        "colab": {
          "base_uri": "https://localhost:8080/",
          "height": 539
        },
        "id": "kNlZJFJfOyZK",
        "outputId": "72b5abd3-be34-4752-aa30-c4510f78ad95"
      },
      "execution_count": null,
      "outputs": [
        {
          "output_type": "display_data",
          "data": {
            "text/plain": [
              "<Figure size 640x480 with 1 Axes>"
            ],
            "image/png": "[encoded data removed]"
          },
          "metadata": {}
        }
      ]
    },
    {
      "cell_type": "markdown",
      "source": [
        "# Module 3 : Node Embedding: Representing Users and Entities with node2vec\n",
        "\n",
        "*   Concept of node embedding and dimensionality reduction\n",
        "*   node2vec algorithm: exploring neighborhood and homophily\n",
        "*   Learning node representations with node2vec and its variants\n",
        "*   Evaluating and using node embeddings for downstream tasks\n",
        "\n",
        "\n",
        "\n",
        "\n",
        "\n"
      ],
      "metadata": {
        "id": "Yhe7qs6nEsDc"
      }
    },
    {
      "cell_type": "code",
      "source": [
        "!pip install node2vec"
      ],
      "metadata": {
        "colab": {
          "base_uri": "https://localhost:8080/",
          "height": 495
        },
        "id": "05_-awD3GEPc",
        "outputId": "4566ce50-8c18-43a5-edcf-6cd0c0bdb239"
      },
      "execution_count": null,
      "outputs": [
        {
          "output_type": "stream",
          "name": "stdout",
          "text": [
            "Collecting node2vec\n",
            "  Downloading node2vec-0.4.6-py3-none-any.whl (7.0 kB)\n",
            "Requirement already satisfied: gensim<5.0.0,>=4.1.2 in /usr/local/lib/python3.10/dist-packages (from node2vec) (4.3.2)\n",
            "Requirement already satisfied: joblib<2.0.0,>=1.1.0 in /usr/local/lib/python3.10/dist-packages (from node2vec) (1.3.2)\n",
            "Collecting networkx<3.0,>=2.5 (from node2vec)\n",
            "  Downloading networkx-2.8.8-py3-none-any.whl (2.0 MB)\n",
            "\u001b[2K     \u001b[90m━━━━━━━━━━━━━━━━━━━━━━━━━━━━━━━━━━━━━━━━\u001b[0m \u001b[32m2.0/2.0 MB\u001b[0m \u001b[31m8.8 MB/s\u001b[0m eta \u001b[36m0:00:00\u001b[0m\n",
            "\u001b[?25hRequirement already satisfied: numpy<2.0.0,>=1.19.5 in /usr/local/lib/python3.10/dist-packages (from node2vec) (1.23.5)\n",
            "Requirement already satisfied: tqdm<5.0.0,>=4.55.1 in /usr/local/lib/python3.10/dist-packages (from node2vec) (4.66.1)\n",
            "Requirement already satisfied: scipy>=1.7.0 in /usr/local/lib/python3.10/dist-packages (from gensim<5.0.0,>=4.1.2->node2vec) (1.11.4)\n",
            "Requirement already satisfied: smart-open>=1.8.1 in /usr/local/lib/python3.10/dist-packages (from gensim<5.0.0,>=4.1.2->node2vec) (6.4.0)\n",
            "Installing collected packages: networkx, node2vec\n",
            "  Attempting uninstall: networkx\n",
            "    Found existing installation: networkx 3.2.1\n",
            "    Uninstalling networkx-3.2.1:\n",
            "      Successfully uninstalled networkx-3.2.1\n",
            "\u001b[31mERROR: pip's dependency resolver does not currently take into account all the packages that are installed. This behaviour is the source of the following dependency conflicts.\n",
            "lida 0.0.10 requires fastapi, which is not installed.\n",
            "lida 0.0.10 requires kaleido, which is not installed.\n",
            "lida 0.0.10 requires python-multipart, which is not installed.\n",
            "lida 0.0.10 requires uvicorn, which is not installed.\u001b[0m\u001b[31m\n",
            "\u001b[0mSuccessfully installed networkx-2.8.8 node2vec-0.4.6\n"
          ]
        },
        {
          "output_type": "display_data",
          "data": {
            "application/vnd.colab-display-data+json": {
              "pip_warning": {
                "packages": [
                  "networkx"
                ]
              }
            }
          },
          "metadata": {}
        }
      ]
    },
    {
      "cell_type": "code",
      "source": [
        "import networkx as nx\n",
        "from node2vec import Node2Vec\n",
        "from sklearn.decomposition import PCA\n",
        "import matplotlib.pyplot as plt"
      ],
      "metadata": {
        "id": "puwYDpUuO0Wq"
      },
      "execution_count": null,
      "outputs": []
    },
    {
      "cell_type": "markdown",
      "source": [
        "\n",
        "\n",
        "**1. Loading a Built-in Graph:**\n",
        "\n",
        "- `nx.karate_club_graph()` is a function in the NetworkX library that creates a pre-built graph called the \"Zachary's karate club\" network.\n",
        "- It's a small, well-known social network dataset often used for demonstrating graph analysis techniques.\n",
        "\n",
        "**2. Graph Structure:**\n",
        "\n",
        "- Nodes: The 34 members of a university karate club.\n",
        "- Edges: Undirected connections representing friendships between members.\n",
        "\n",
        "**3. Background:**\n",
        "\n",
        "- The graph was constructed based on observations of social interactions over a period of three years.\n",
        "- It became famous for its community structure, which reflects a conflict that split the club into two factions.\n",
        "\n",
        "**4. Example Usage:**\n",
        "\n",
        "```python\n",
        "import networkx as nx\n",
        "\n",
        "# Load the graph\n",
        "G = nx.karate_club_graph()\n",
        "\n",
        "# Number of nodes and edges\n",
        "print(\"Number of nodes:\", G.number_of_nodes())  # Output: 34\n",
        "print(\"Number of edges:\", G.number_of_edges())  # Output: 78\n",
        "\n",
        "# Visualization (optional, requires a visualization library like matplotlib)\n",
        "import matplotlib.pyplot as plt\n",
        "nx.draw(G, with_labels=True)\n",
        "plt.show()\n",
        "\n",
        "# Community detection (example)\n",
        "communities = nx.community.greedy_modularity_communities(G)\n",
        "print(\"Detected communities:\", communities)\n",
        "```\n",
        "\n",
        "**Key Points:**\n",
        "\n",
        "- It's a convenient way to access a real-world network for practice and experimentation.\n",
        "- It's useful for learning and testing various graph algorithms and analysis techniques.\n",
        "- It serves as a common benchmark for comparing different network analysis approaches.\n",
        "\n",
        "**Additional Insights:**\n",
        "\n",
        "- The graph exhibits strong community structure, with two main groups of nodes that are more densely connected within themselves than between groups.\n",
        "- This reflects the real-world social dynamics that led to the club's split.\n",
        "- Analyzing the graph can reveal insights about network structure, community formation, and social dynamics.\n"
      ],
      "metadata": {
        "id": "cR24B5LBG5Oj"
      }
    },
    {
      "cell_type": "code",
      "source": [
        "# Create a sample graph\n",
        "G = nx.karate_club_graph()"
      ],
      "metadata": {
        "id": "QI3CUy7HFq4l"
      },
      "execution_count": null,
      "outputs": []
    },
    {
      "cell_type": "code",
      "source": [
        "# Visualize the original graph\n",
        "nx.draw(G, with_labels=True, font_weight='bold', node_color=\"skyblue\", node_size=1000, edge_color=\"gray\", font_color=\"black\")\n",
        "plt.title(\"Original Graph\")\n",
        "plt.show()"
      ],
      "metadata": {
        "colab": {
          "base_uri": "https://localhost:8080/",
          "height": 539
        },
        "id": "hcC2L2m1Ggxl",
        "outputId": "309f34dd-1899-4ce7-82e0-7f87e9ff188f"
      },
      "execution_count": null,
      "outputs": [
        {
          "output_type": "display_data",
          "data": {
            "text/plain": [
              "<Figure size 640x480 with 1 Axes>"
            ],
            "image/png": "[encoded data removed]"
          },
          "metadata": {}
        }
      ]
    },
    {
      "cell_type": "markdown",
      "source": [
        "**Node2Vec Algorithm:**\n",
        "\n",
        "- **Purpose:** It's an algorithm that generates low-dimensional vector representations of nodes in a graph, preserving their network neighborhoods and structural roles.\n",
        "- **Key Idea:** It leverages random walks to capture both the local and global context of nodes within the network.\n",
        "- **Applications:** It's used for various tasks, including:\n",
        "    - Node classification\n",
        "    - Link prediction\n",
        "    - Community detection\n",
        "    - Recommendation systems\n",
        "    - Knowledge graph completion\n",
        "\n",
        "**Code Breakdown:**\n",
        "\n",
        "1. **Import Node2Vec:**\n",
        "   - `from node2vec import Node2Vec` imports the Node2Vec implementation.\n",
        "2. **Instantiate Node2Vec:**\n",
        "   - `node2vec = Node2Vec(G, dimensions=64, walk_length=30, num_walks=200, workers=4)` creates a Node2Vec object with:\n",
        "     - `G`: The input graph.\n",
        "     - `dimensions=64`: The desired dimensionality of the node embeddings (vectors).\n",
        "     - `walk_length=30`: The length of each random walk.\n",
        "     - `num_walks=200`: The number of random walks to generate per node.\n",
        "     - `workers=4`: The number of parallel processes to use for generating walks (for efficiency).\n",
        "\n",
        "**Example:**\n",
        "\n",
        "Consider a social network graph:\n",
        "\n",
        "1. **Random Walk Generation:** The algorithm simulates random walks starting from each node, exploring its neighborhood:\n",
        "   - It biases the walks to prioritize:\n",
        "     - Returning to the starting node (capturing local structure).\n",
        "     - Exploring further from the starting node (capturing global context).\n",
        "2. **Embedding Creation:** The generated walks are used to create a vocabulary of node sequences.\n",
        "3. **Word2Vec Application:** A Word2Vec-like model is applied to this vocabulary to learn vector representations for each node, capturing their relationships and roles within the network.\n",
        "\n",
        "**Key Points:**\n",
        "\n",
        "- Node2Vec produces embeddings that can be used for various machine learning tasks on graphs.\n",
        "- It effectively captures both local and global structural information.\n",
        "- It's a powerful tool for understanding and analyzing complex networks.\n"
      ],
      "metadata": {
        "id": "smlkXJ_eIlWF"
      }
    },
    {
      "cell_type": "code",
      "source": [
        "# Node2Vec Algorithm\n",
        "\n",
        "# Generate random walks\n",
        "node2vec = Node2Vec(G, dimensions=64, walk_length=30, num_walks=200, workers=4)\n"
      ],
      "metadata": {
        "colab": {
          "base_uri": "https://localhost:8080/",
          "height": 49,
          "referenced_widgets": [
            "37253494f03d43809f7d25cb58527e31",
            "1359e43637064747a9cbbfee592a6a24",
            "da11580217d943a9bf7835a7363186eb",
            "6341f42d6beb43659112b50c0b45e4e7",
            "02df7d7e889248d88ccd68bb4a1f16b5",
            "4594a597f9134d878c0797caf90357e1",
            "af1fccf78f1d4cfea7449dd37b7e6ff9",
            "c6592d69702e4088889fb7c4cb70ad5e",
            "297d5644360547dca768218f37c752db",
            "bf64fe45e13842d8b56d29ee426b84b2",
            "b2c823dbe5064123804b58444cf947db"
          ]
        },
        "id": "L1xnuBr1GiuG",
        "outputId": "edfc3717-c056-416a-8a21-d62756957828"
      },
      "execution_count": null,
      "outputs": [
        {
          "output_type": "display_data",
          "data": {
            "text/plain": [
              "Computing transition probabilities:   0%|          | 0/34 [00:00<?, ?it/s]"
            ],
            "application/vnd.jupyter.widget-view+json": {
              "version_major": 2,
              "version_minor": 0,
              "model_id": "37253494f03d43809f7d25cb58527e31"
            }
          },
          "metadata": {}
        }
      ]
    },
    {
      "cell_type": "markdown",
      "source": [
        "\n",
        "**Learning Node Embeddings:**\n",
        "\n",
        "- This code trains the Node2Vec model to learn the node embeddings based on the previously generated random walks.\n",
        "- It involves applying a Word2Vec-like algorithm to create vector representations that capture node relationships and roles.\n",
        "\n",
        "**Parameters:**\n",
        "\n",
        "- `window=10`: The context window size, meaning how many nodes before and after a given node in a walk are considered for learning its embedding.\n",
        "- `min_count=1`: The minimum frequency of a node in the random walks to be considered for embedding. Nodes appearing less often are ignored.\n",
        "- `batch_words=4`: The number of node sequences processed in a batch during training, affecting model training speed and memory usage.\n",
        "\n",
        "**Process:**\n",
        "\n",
        "1. **Context Creation:** The model constructs \"contexts\" for each node in the walks by considering its neighbors within the specified window size.\n",
        "2. **Prediction Task:** The model is trained to predict the context nodes given a central node, similar to how Word2Vec predicts surrounding words in a sentence.\n",
        "3. **Embedding Learning:** Through this prediction task, the model learns to associate nodes with similar contexts in the network, resulting in meaningful embeddings.\n",
        "\n",
        "**Example:**\n",
        "\n",
        "Imagine a walk sequence [A, B, C, D, E]. With a window size of 2:\n",
        "\n",
        "- Contexts for A: [[B, C], [B, C, D]]\n",
        "- Contexts for B: [[A, C, D], [C, D, E]]\n",
        "- And so on for other nodes.\n",
        "\n",
        "**Key Points:**\n",
        "\n",
        "- The learned embeddings represent nodes as numerical vectors that encode their structural relationships and roles.\n",
        "- Nodes with similar structural positions or roles tend to have similar embeddings.\n",
        "- These embeddings can be used for various downstream graph analysis tasks.\n"
      ],
      "metadata": {
        "id": "3Y2pLoTOJEVB"
      }
    },
    {
      "cell_type": "code",
      "source": [
        "# Learn embeddings\n",
        "model = node2vec.fit(window=10, min_count=1, batch_words=4)"
      ],
      "metadata": {
        "id": "zlbpb-k5HoeO"
      },
      "execution_count": null,
      "outputs": []
    },
    {
      "cell_type": "code",
      "source": [
        "# Save and load the model\n",
        "# model.save(\"node2vec_model.model\")\n",
        "# model = Word2Vec.load(\"node2vec_model.model\")"
      ],
      "metadata": {
        "id": "RXIKs7m4HvAP"
      },
      "execution_count": null,
      "outputs": []
    },
    {
      "cell_type": "markdown",
      "source": [
        "\n",
        "**Retrieving Node Embeddings:**\n",
        "\n",
        "- This code extracts the learned node embeddings from the trained Node2Vec model and stores them in a dictionary for convenient access and use in further analysis.\n",
        "\n",
        "**Breakdown:**\n",
        "\n",
        "1. **Accessing Embeddings:**\n",
        "   - `model.wv` provides access to the word vectors (embeddings) learned by the model.\n",
        "2. **Dictionary Creation:**\n",
        "   - `{node: model.wv[node] for node in G.nodes()}` creates a dictionary where:\n",
        "     - Keys are node names from the graph `G`.\n",
        "     - Values are their corresponding embedding vectors.\n",
        "\n",
        "**Example:**\n",
        "\n",
        "Consider a graph with nodes \"Alice\", \"Bob\", and \"Charlie\":\n",
        "\n",
        "- `node_embeddings` might look like:\n",
        "   ```python\n",
        "   {\"Alice\": [0.123, 0.456, -0.231, ...],\n",
        "    \"Bob\": [-0.345, 0.789, 0.111, ...],\n",
        "    \"Charlie\": [0.987, -0.012, 0.567, ...]}\n",
        "   ```\n",
        "\n",
        "**Key Points:**\n",
        "\n",
        "- The dictionary provides a structured way to access and work with the embeddings.\n",
        "- It allows you to perform various analyses and tasks using the learned representations of nodes.\n",
        "- Examples of downstream tasks include:\n",
        "    - Node classification\n",
        "    - Link prediction\n",
        "    - Community detection\n",
        "    - Visualization\n",
        "    - And more!\n"
      ],
      "metadata": {
        "id": "10xOVSrbVpIy"
      }
    },
    {
      "cell_type": "code",
      "source": [
        "# Get the node embeddings\n",
        "node_embeddings = {node: model.wv[node] for node in G.nodes()}"
      ],
      "metadata": {
        "id": "DoDvf6t9H2JO"
      },
      "execution_count": null,
      "outputs": []
    },
    {
      "cell_type": "markdown",
      "source": [
        "\n",
        "**Visualizing High-Dimensional Data:**\n",
        "\n",
        "- Node embeddings often have high dimensionality (e.g., 64 dimensions in your example), making it challenging to visualize them directly.\n",
        "- Dimensionality reduction techniques like PCA help project the data onto a lower-dimensional space (e.g., 2D or 3D) for visualization.\n",
        "\n",
        "**Code Breakdown:**\n",
        "\n",
        "1. **Preparing Data:**\n",
        "   - `X = list(node_embeddings.values())` extracts the embedding vectors (values) from the dictionary and creates a list of numerical vectors.\n",
        "2. **Instantiating PCA:**\n",
        "   - `pca = PCA(n_components=2)` creates a PCA object, specifying that you want to reduce the dimensionality to 2 dimensions for visualization.\n",
        "3. **Applying PCA:**\n",
        "   - `result = pca.fit_transform(X)` fits the PCA model to the embedding vectors and transforms them into 2-dimensional representations, capturing the most significant variations in the data.\n",
        "\n",
        "**Example:**\n",
        "\n",
        "Imagine a social network with 50 nodes. After PCA, each node's embedding becomes a 2-dimensional point in a scatter plot.\n",
        "\n",
        "- Nodes with similar roles or positions in the network might cluster together visually.\n",
        "- You can identify patterns, communities, or outliers based on their arrangement in the plot.\n",
        "\n",
        "**Additional Considerations:**\n",
        "\n",
        "- PCA preserves the most important variance in the data, but some information might be lost during dimensionality reduction.\n",
        "- Other dimensionality reduction techniques like t-SNE or UMAP can be explored for different visualization purposes.\n",
        "- Visualizing embeddings can help understand the network structure, node relationships, and potential communities.\n"
      ],
      "metadata": {
        "id": "lIbvzSauV6gB"
      }
    },
    {
      "cell_type": "code",
      "source": [
        "# Visualize the embeddings using PCA for dimensionality reduction\n",
        "X = list(node_embeddings.values())\n",
        "pca = PCA(n_components=2)\n",
        "result = pca.fit_transform(X)"
      ],
      "metadata": {
        "id": "FauVkwQjH4T5"
      },
      "execution_count": null,
      "outputs": []
    },
    {
      "cell_type": "code",
      "source": [
        "# Visualize the node embeddings\n",
        "plt.scatter(result[:, 0], result[:, 1])\n",
        "for i, node in enumerate(G.nodes()):\n",
        "    plt.annotate(node, xy=(result[i, 0], result[i, 1]), fontsize=8)\n",
        "plt.title(\"Node Embeddings using PCA\")\n",
        "plt.show()"
      ],
      "metadata": {
        "colab": {
          "base_uri": "https://localhost:8080/",
          "height": 452
        },
        "id": "W-DCf2QgH61U",
        "outputId": "8081a7eb-d6c5-40eb-dd29-007b1db06725"
      },
      "execution_count": null,
      "outputs": [
        {
          "output_type": "display_data",
          "data": {
            "text/plain": [
              "<Figure size 640x480 with 1 Axes>"
            ],
            "image/png": "[encoded data removed]"
          },
          "metadata": {}
        }
      ]
    },
    {
      "cell_type": "markdown",
      "source": [
        "# Module 4 : Deep Learning for Social Networks: Graph Convolutional Networks (GCNs)\n",
        "\n",
        "*   Introduction to GCNs: Architecture and message passing\n",
        "*   Learning node representations with GCN layers\n",
        "*   Applications of GCNs in social network analysis and ad targeting\n",
        "*   Case studies of successful GCN-based systems\n",
        "\n",
        "\n",
        "\n",
        "\n"
      ],
      "metadata": {
        "id": "Ldg6E7lIY6XA"
      }
    },
    {
      "cell_type": "code",
      "source": [
        "import torch\n",
        "import torch.nn as nn\n",
        "import torch.optim as optim\n",
        "import torch.nn.functional as F\n",
        "from torch.utils.data import DataLoader\n",
        "\n",
        "import networkx as nx\n",
        "import numpy as np\n",
        "import matplotlib.pyplot as plt"
      ],
      "metadata": {
        "id": "Xo_PhYx3bO8y"
      },
      "execution_count": null,
      "outputs": []
    },
    {
      "cell_type": "markdown",
      "source": [
        "\n",
        "**Code Breakdown:**\n",
        "\n",
        "1. **Loading a Sample Graph:**\n",
        "   - `G = nx.karate_club_graph()` creates a networkx graph object called `G` representing the \"Zachary's karate club\" network.\n",
        "   - This graph is a small, often-used social network dataset for examples and testing.\n",
        "\n",
        "2. **Creating an Adjacency Matrix:**\n",
        "   - `adjacency_matrix = nx.adjacency_matrix(G).toarray()` calculates the adjacency matrix of the graph `G`.\n",
        "     - An adjacency matrix is a square matrix representing the connections between nodes in a graph.\n",
        "     - `(i, j)` entry is 1 if there's an edge between nodes `i` and `j`, and 0 otherwise.\n",
        "     - `.toarray()` converts the matrix from a sparse format to a NumPy array.\n",
        "\n",
        "3. **Converting to PyTorch Tensor:**\n",
        "   - `adjacency_matrix = torch.FloatTensor(adjacency_matrix)` converts the NumPy adjacency matrix into a PyTorch tensor.\n",
        "     - PyTorch tensors are specialized data structures optimized for computations on numerical data in deep learning frameworks.\n",
        "\n",
        "**Example:**\n",
        "\n",
        "Consider a social network with 5 members: Alice, Bob, Charlie, David, and Emily.\n",
        "\n",
        "- **Adjacency Matrix:**\n",
        "   ```\n",
        "       A  B  C  D  E\n",
        "   A [0  1  1  0  0]\n",
        "   B [1  0  1  1  0]\n",
        "   C [1  1  0  1  1]\n",
        "   D [0  1  1  0  1]\n",
        "   E [0  0  1  1  0]\n",
        "   ```\n",
        "   - 1 at (A, B) indicates a connection between Alice and Bob.\n",
        "   - 0 at (A, E) indicates no direct connection between Alice and Emily.\n",
        "\n",
        "**Key Points:**\n",
        "\n",
        "- Adjacency matrices are a common way to represent graphs for various graph analysis tasks, including:\n",
        "    - Community detection\n",
        "    - Node classification\n",
        "    - Link prediction\n",
        "- PyTorch tensors facilitate using these graphs for graph neural networks and other deep learning models that operate on graph data.\n"
      ],
      "metadata": {
        "id": "zrgSUy4fmDOS"
      }
    },
    {
      "cell_type": "code",
      "source": [
        "# Create a sample social network graph\n",
        "G = nx.karate_club_graph()\n",
        "\n",
        "# Convert the graph to PyTorch tensors\n",
        "adjacency_matrix = nx.adjacency_matrix(G).toarray()\n",
        "num_nodes = G.number_of_nodes()\n",
        "adjacency_matrix = torch.FloatTensor(adjacency_matrix)"
      ],
      "metadata": {
        "colab": {
          "base_uri": "https://localhost:8080/"
        },
        "id": "NjtbIyB9bQ77",
        "outputId": "e2232c27-574e-4f82-b5fe-8aa2032bea47"
      },
      "execution_count": null,
      "outputs": [
        {
          "output_type": "stream",
          "name": "stderr",
          "text": [
            "<ipython-input-34-e43f6bd3ce4e>:5: FutureWarning: adjacency_matrix will return a scipy.sparse array instead of a matrix in Networkx 3.0.\n",
            "  adjacency_matrix = nx.adjacency_matrix(G).toarray()\n"
          ]
        }
      ]
    },
    {
      "cell_type": "markdown",
      "source": [
        "**Key Concepts:**\n",
        "\n",
        "- **GCN (Graph Convolutional Network):** A type of neural network that operates directly on graph-structured data, capable of learning node representations that incorporate both node features and graph structure.\n",
        "- **GCN Layer:** A fundamental building block of GCNs, responsible for aggregating information from neighboring nodes to update node representations.\n",
        "\n",
        "**Code Breakdown:**\n",
        "\n",
        "**1. Class Definition:**\n",
        "   - `class GCNLayer(nn.Module):` defines a custom PyTorch module for a GCN layer.\n",
        "   - `__init__(self, in_features, out_features):` initializes the layer with input and output feature dimensions.\n",
        "   - `self.linear = nn.Linear(in_features, out_features):` creates a linear transformation layer for initial feature processing.\n",
        "\n",
        "**2. Forward Pass:**\n",
        "   - `x = self.linear(x):` Applies the linear transformation to input features.\n",
        "   - `adjacency_matrix = adjacency_matrix + torch.eye(adjacency_matrix.size(0)):` Adds self-loops to the adjacency matrix, ensuring each node considers its own features in aggregation.\n",
        "   - `degree_matrix = torch.sum(adjacency_matrix, dim=1, keepdim=True):` Calculates the degree matrix, capturing the number of connections for each node.\n",
        "   - `normalized_adjacency = adjacency_matrix * degree_matrix_inv_sqrt * degree_matrix_inv_sqrt.t():` Normalizes the adjacency matrix to prevent biases towards high-degree nodes, ensuring a stable learning process.\n",
        "   - `x = torch.mm(normalized_adjacency, x):` Aggregates features from neighboring nodes based on the normalized adjacency matrix, updating node representations.\n",
        "   - `return F.relu(x):` Applies ReLU activation to introduce non-linearity.\n",
        "\n",
        "**Example:**\n",
        "\n",
        "Consider a social network with 4 nodes and their initial features:\n",
        "\n",
        "- **Adjacency Matrix:**\n",
        "   ```\n",
        "       A  B  C  D\n",
        "   A [0  1  1  0]\n",
        "   B [1  0  1  1]\n",
        "   C [1  1  0  0]\n",
        "   D [0  1  0  0]\n",
        "   ```\n",
        "- **Initial Node Features:**\n",
        "   ```\n",
        "   A = [1, 2]\n",
        "   B = [3, 4]\n",
        "   C = [5, 6]\n",
        "   D = [7, 8]\n",
        "   ```\n",
        "\n",
        "The GCN layer aggregates features from neighbors, producing updated node representations that reflect both individual features and connections:\n",
        "\n",
        "- **Updated Node Features (after GCN layer):**\n",
        "   (Values will depend on the specific linear transformation and normalization.)\n",
        "   ```\n",
        "   A_new = [...]\n",
        "   B_new = [...]\n",
        "   C_new = [...]\n",
        "   D_new = [...]\n",
        "   ```\n",
        "\n",
        "**Key Points:**\n",
        "\n",
        "- GCN layers effectively capture graph structure and node features for various graph-based tasks like node classification, community detection, and link prediction.\n",
        "- Stacking multiple GCN layers enables learning deeper representations that incorporate information from larger neighborhoods.\n"
      ],
      "metadata": {
        "id": "ykF5GdYtmkBG"
      }
    },
    {
      "cell_type": "code",
      "source": [
        "# GCN Layer\n",
        "\n",
        "class GCNLayer(nn.Module):\n",
        "    def __init__(self, in_features, out_features):\n",
        "        super(GCNLayer, self).__init__()\n",
        "        self.linear = nn.Linear(in_features, out_features)\n",
        "\n",
        "    def forward(self, x, adjacency_matrix):\n",
        "        x = self.linear(x)\n",
        "        adjacency_matrix = adjacency_matrix + torch.eye(adjacency_matrix.size(0))  # Add self-loops\n",
        "        degree_matrix = torch.sum(adjacency_matrix, dim=1, keepdim=True)  # Calculate degree matrix\n",
        "        degree_matrix_inv_sqrt = torch.pow(degree_matrix, -0.5)\n",
        "        normalized_adjacency = adjacency_matrix * degree_matrix_inv_sqrt * degree_matrix_inv_sqrt.t()\n",
        "        x = torch.mm(normalized_adjacency, x)\n",
        "        return F.relu(x)"
      ],
      "metadata": {
        "id": "ushe2bMYbSp2"
      },
      "execution_count": null,
      "outputs": []
    },
    {
      "cell_type": "markdown",
      "source": [
        "\n",
        "**Graph Convolutional Networks (GCNs):**\n",
        "\n",
        "- GCNs are a type of neural network that operates directly on graph data.\n",
        "- They learn representations of nodes that incorporate both their features and their structural relationships with neighboring nodes.\n",
        "- This makes them powerful for tasks like node classification, link prediction, and graph classification.\n",
        "\n",
        "**Code Breakdown:**\n",
        "\n",
        "1. **Class Definition:**\n",
        "   - `class GCNModel(nn.Module):` defines a GCN model class in PyTorch, inheriting from the `nn.Module` base class.\n",
        "\n",
        "2. **Constructor:**\n",
        "   - `__init__(self, num_features, hidden_size, num_classes):` initializes the model's layers:\n",
        "     - `num_features`: Number of input features per node.\n",
        "     - `hidden_size`: Dimensionality of the hidden layer.\n",
        "     - `num_classes`: Number of output classes (for classification tasks).\n",
        "     - `self.layer1`: First GCN layer, taking input features and producing hidden representations.\n",
        "     - `self.layer2`: Second GCN layer, taking hidden representations and producing output predictions.\n",
        "\n",
        "3. **Forward Pass:**\n",
        "   - `forward(self, x, adjacency_matrix):` performs the forward propagation of data through the model:\n",
        "     - `x`: Input node features (as a PyTorch tensor).\n",
        "     - `adjacency_matrix`: Adjacency matrix of the graph (as a PyTorch tensor).\n",
        "     - The model passes `x` through each GCN layer, using the `adjacency_matrix` to incorporate information about node connections.\n",
        "     - Final output `x` is returned, containing predicted scores for each node (e.g., class probabilities for classification).\n",
        "\n",
        "**Example:**\n",
        "\n",
        "Consider the social network with the adjacency matrix from the previous example. Assume each node has a 2-dimensional feature vector representing their age and activity level.\n",
        "\n",
        "- **Input:**\n",
        "    - `x`: A 5x2 tensor (5 nodes, 2 features each).\n",
        "    - `adjacency_matrix`: The 5x5 adjacency matrix.\n",
        "- **Output:**\n",
        "    - A 5x4 tensor (5 nodes, 4 predicted class scores).\n",
        "\n",
        "**Key Points:**\n",
        "\n",
        "- GCNs learn node representations that consider both node features and graph structure.\n",
        "- The adjacency matrix is crucial for capturing node relationships during feature propagation.\n",
        "- GCNs are a powerful tool for various graph-based machine learning tasks.\n"
      ],
      "metadata": {
        "id": "S45-5PaQm5I9"
      }
    },
    {
      "cell_type": "code",
      "source": [
        "# GCN Model\n",
        "\n",
        "class GCNModel(nn.Module):\n",
        "    def __init__(self, num_features, hidden_size, num_classes):\n",
        "        super(GCNModel, self).__init__()\n",
        "        self.layer1 = GCNLayer(num_features, hidden_size)\n",
        "        self.layer2 = GCNLayer(hidden_size, num_classes)\n",
        "\n",
        "    def forward(self, x, adjacency_matrix):\n",
        "        x = self.layer1(x, adjacency_matrix)\n",
        "        x = self.layer2(x, adjacency_matrix)\n",
        "        return x"
      ],
      "metadata": {
        "id": "dW6ONNi_bVwi"
      },
      "execution_count": null,
      "outputs": []
    },
    {
      "cell_type": "markdown",
      "source": [
        "\n",
        "**Node Features:**\n",
        "\n",
        "- **Representing Node Characteristics:** Numeric values associated with each node, capturing their attributes or properties.\n",
        "- **Example:**\n",
        "    - In a social network, node features might include age, interests, or activity level.\n",
        "    - In a molecular graph, node features could represent atom types or chemical properties.\n",
        "- **Code:**\n",
        "    - `node_features = np.array([G.degree(node) for node in G.nodes()]).reshape(-1, 1)` creates a NumPy array where each row represents a node's degree (number of connections).\n",
        "        - Degree is a simple feature often used in graph analysis.\n",
        "    - `node_features = torch.FloatTensor(node_features)` converts the array to a PyTorch tensor for model input.\n",
        "\n",
        "**Node Labels:**\n",
        "\n",
        "- **Ground Truth for Supervised Learning:** Assigned values for each node, used to train the GCN model to make predictions on unseen nodes.\n",
        "- **One-Hot Encoding:** A common technique for representing categorical labels as binary vectors.\n",
        "- **Code:**\n",
        "    - `node_labels = torch.LongTensor([1 if G.nodes[node]['club'] == 'Mr. Hi' else 0 for node in G.nodes()])` creates a tensor where:\n",
        "        - 1 indicates membership in the \"Mr. Hi\" club.\n",
        "        - 0 indicates membership in the other club.\n",
        "\n",
        "**Visualizing Node Features and Labels:**\n",
        "\n",
        "[Image of a graph with nodes colored based on their features and labels]\n",
        "\n",
        "- **Nodes:** Represented as circles.\n",
        "- **Colors:** Indicate different feature values or labels (e.g., red for high degree, blue for low degree, green for \"Mr. Hi\" club, yellow for the other club).\n",
        "- **Edges:** Represent connections between nodes.\n",
        "\n",
        "**Key Points:**\n",
        "\n",
        "- GCNs learn to combine node features with graph structure to create informative node representations.\n",
        "- Node features and labels are crucial for training GCNs in supervised learning tasks.\n",
        "- Careful feature engineering and label encoding can significantly impact model performance.\n"
      ],
      "metadata": {
        "id": "cKlK7hbnnJLp"
      }
    },
    {
      "cell_type": "code",
      "source": [
        "# Training the GCN Model\n",
        "\n",
        "# Assume some node features (in this case, just the node degrees)\n",
        "node_features = np.array([G.degree(node) for node in G.nodes()]).reshape(-1, 1)\n",
        "node_features = torch.FloatTensor(node_features)\n",
        "\n",
        "# One-hot encoding of node labels (club membership)\n",
        "node_labels = torch.LongTensor([1 if G.nodes[node]['club'] == 'Mr. Hi' else 0 for node in G.nodes()])"
      ],
      "metadata": {
        "id": "NYJsDEwVbYMS"
      },
      "execution_count": null,
      "outputs": []
    },
    {
      "cell_type": "markdown",
      "source": [
        "**Code Breakdown:**\n",
        "\n",
        "1. **Defining the GCN Model:**\n",
        "   - `gcn_model = GCNModel(num_features=1, hidden_size=16, num_classes=2)` creates a Graph Convolutional Network (GCN) model instance.\n",
        "     - `num_features=1`: Number of input features per node (e.g., a single attribute).\n",
        "     - `hidden_size=16`: Number of hidden units in the GCN layers.\n",
        "     - `num_classes=2`: Number of output classes for node classification (e.g., binary classification).\n",
        "\n",
        "2. **Loss Function:**\n",
        "   - `criterion = nn.CrossEntropyLoss()` creates a cross-entropy loss function, commonly used for classification tasks.\n",
        "\n",
        "3. **Optimizer:**\n",
        "   - `optimizer = optim.Adam(gcn_model.parameters(), lr=0.01)` creates an Adam optimizer with a learning rate of 0.01 to update model parameters during training.\n",
        "\n",
        "**Example:**\n",
        "\n",
        "Consider a social network graph with nodes representing individuals and edges indicating friendships. Each node has a single feature (e.g., age). The goal is to classify nodes into two groups (e.g., likely to adopt a new product or not).\n",
        "\n",
        "1. **GCN Layers:**\n",
        "   - The model learns how to aggregate information from neighbors and node features to create node embeddings that capture structural and feature-based information.\n",
        "2. **Output Layer:**\n",
        "   - The final layer maps these embeddings to class probabilities using a linear transformation followed by a softmax function.\n",
        "3. **Training:**\n",
        "   - The model is trained using the provided adjacency matrix, node features, and known class labels.\n",
        "4. **Loss Calculation:**\n",
        "   - Cross-entropy loss measures the difference between the predicted probabilities and the true labels, guiding model updates.\n",
        "5. **Optimization:**\n",
        "   - The Adam optimizer adjusts model parameters to minimize the loss and improve classification accuracy.\n",
        "\n",
        "**Key Points:**\n",
        "\n",
        "- GCNs are powerful for learning node representations that incorporate both graph structure and node features.\n",
        "- They are used for various graph-based tasks, including node classification, link prediction, and graph classification.\n",
        "- Cross-entropy loss and Adam optimizer are common choices for training GCN models.\n"
      ],
      "metadata": {
        "id": "1j0rQKIindTj"
      }
    },
    {
      "cell_type": "code",
      "source": [
        "# Define the GCN model\n",
        "gcn_model = GCNModel(num_features=1, hidden_size=16, num_classes=2)\n",
        "\n",
        "# Loss and optimizer\n",
        "criterion = nn.CrossEntropyLoss()\n",
        "optimizer = optim.Adam(gcn_model.parameters(), lr=0.01)"
      ],
      "metadata": {
        "id": "Kk2Cdti0bbHS"
      },
      "execution_count": null,
      "outputs": []
    },
    {
      "cell_type": "markdown",
      "source": [
        "**Code Breakdown:**\n",
        "\n",
        "1. **Setting Up Training:**\n",
        "   - `num_epochs = 100`: Defines the number of times the model will iterate through the entire dataset during training.\n",
        "   - `for epoch in range(num_epochs):`: Initiates a loop that runs for the specified number of epochs.\n",
        "\n",
        "2. **Preparing for Training:**\n",
        "   - `gcn_model.train()`: Sets the model to training mode, enabling internal mechanisms like dropout and batch normalization that are specific to training.\n",
        "   - `optimizer.zero_grad()`: Resets the gradients of model parameters to zero, ensuring they don't accumulate across iterations.\n",
        "\n",
        "3. **Forward Pass:**\n",
        "   - `output = gcn_model(node_features, adjacency_matrix)`: Passes the node features and adjacency matrix through the Graph Convolutional Network (GCN) model to generate predictions (node labels in this case).\n",
        "\n",
        "4. **Loss Calculation:**\n",
        "   - `loss = criterion(output, node_labels)`: Compares the model's predictions (`output`) with the true node labels (`node_labels`) using a specified loss function (`criterion`) to quantify the error.\n",
        "\n",
        "5. **Backpropagation:**\n",
        "   - `loss.backward()`: Calculates gradients of the loss with respect to model parameters, indicating how each parameter contributed to the error.\n",
        "\n",
        "6. **Parameter Update:**\n",
        "   - `optimizer.step()`: Updates model parameters in the direction that minimizes the loss, guided by the calculated gradients.\n",
        "\n",
        "7. **Monitoring Progress:**\n",
        "   - `if (epoch + 1) % 10 == 0:`: Periodically prints the current epoch and loss value to track training progress.\n",
        "\n",
        "**Example (Node Classification):**\n",
        "\n",
        "- **Task:** Predict the roles of people in a social network (e.g., leader, follower, influencer).\n",
        "- **Model:** GCN learns representations of nodes that incorporate both their features (e.g., interests, demographics) and their connections.\n",
        "- **Data:**\n",
        "    - `node_features`: Matrix representing node attributes (e.g., age, gender, interests).\n",
        "    - `adjacency_matrix`: Adjacency matrix representing connections between nodes.\n",
        "    - `node_labels`: True roles of nodes (used for training).\n",
        "- **Training:**\n",
        "    - Model iteratively processes node features and adjacency matrix.\n",
        "    - Loss measures prediction accuracy.\n",
        "    - Model adjusts its internal parameters to improve predictions.\n",
        "\n",
        "**Key Points:**\n",
        "\n",
        "- Training loops are fundamental for iteratively optimizing deep learning models.\n",
        "- Understanding this process is essential for effective model development.\n",
        "- GCNs are powerful for learning from graph-structured data.\n"
      ],
      "metadata": {
        "id": "1QgKdl2xnuGo"
      }
    },
    {
      "cell_type": "code",
      "source": [
        "# Training loop\n",
        "num_epochs = 100\n",
        "for epoch in range(num_epochs):\n",
        "    gcn_model.train()\n",
        "    optimizer.zero_grad()\n",
        "    output = gcn_model(node_features, adjacency_matrix)\n",
        "    loss = criterion(output, node_labels)\n",
        "    loss.backward()\n",
        "    optimizer.step()\n",
        "\n",
        "    if (epoch + 1) % 10 == 0:\n",
        "        print(f'Epoch [{epoch+1}/{num_epochs}], Loss: {loss.item():.4f}')\n"
      ],
      "metadata": {
        "colab": {
          "base_uri": "https://localhost:8080/"
        },
        "id": "yYQ2eb55bdxd",
        "outputId": "59a68d34-e195-4fdc-9a2c-e24ea429153a"
      },
      "execution_count": null,
      "outputs": [
        {
          "output_type": "stream",
          "name": "stdout",
          "text": [
            "Epoch [10/100], Loss: 0.7065\n",
            "Epoch [20/100], Loss: 0.6968\n",
            "Epoch [30/100], Loss: 0.6940\n",
            "Epoch [40/100], Loss: 0.6934\n",
            "Epoch [50/100], Loss: 0.6930\n",
            "Epoch [60/100], Loss: 0.6926\n",
            "Epoch [70/100], Loss: 0.6925\n",
            "Epoch [80/100], Loss: 0.6924\n",
            "Epoch [90/100], Loss: 0.6923\n",
            "Epoch [100/100], Loss: 0.6922\n"
          ]
        }
      ]
    },
    {
      "cell_type": "markdown",
      "source": [
        "\n",
        "**Evaluating a Graph Convolutional Network (GCN):**\n",
        "\n",
        "1. **Setting Evaluation Mode:**\n",
        "   - `gcn_model.eval()`: Switches the GCN model to evaluation mode, disabling some layers (like dropout) that are used only during training to improve generalization.\n",
        "\n",
        "2. **Disabling Gradient Calculations:**\n",
        "   - `with torch.no_grad():`: Temporarily disables gradient calculations, as they're not needed for evaluation and can save memory and computational time.\n",
        "\n",
        "3. **Making Predictions:**\n",
        "   - `predictions = torch.argmax(gcn_model(node_features, adjacency_matrix), dim=1)`:\n",
        "     - Feeds the `node_features` (node attributes) and `adjacency_matrix` (representing the graph structure) to the GCN model.\n",
        "     - The model outputs a prediction for each node (e.g., class probabilities).\n",
        "     - `torch.argmax` finds the index of the most likely class for each node, yielding the model's predictions.\n",
        "\n",
        "4. **Calculating Accuracy:**\n",
        "   - `accuracy = torch.sum(predictions == node_labels).item() / node_labels.size(0)`:\n",
        "     - Compares the predicted classes (`predictions`) with the true labels (`node_labels`).\n",
        "     - Calculates the proportion of correctly classified nodes to obtain the accuracy.\n",
        "\n",
        "**Example:**\n",
        "\n",
        "Imagine a social network with 4 members (nodes) and their predicted roles:\n",
        "\n",
        "- **Predictions:** [0, 1, 1, 0] (e.g., 0 = \"Admin\", 1 = \"Member\")\n",
        "- **True Labels:** [0, 1, 0, 1]\n",
        "- **Accuracy:** 2 correct predictions / 4 nodes = 0.5 (50%)\n",
        "\n",
        "**Key Points:**\n",
        "\n",
        "- Evaluation is crucial to assess model performance on unseen data.\n",
        "- Accuracy is a common metric, but consider others based on task requirements (e.g., precision, recall, F1-score).\n",
        "- Evaluating on a separate test set helps ensure unbiased performance estimates.\n"
      ],
      "metadata": {
        "id": "MQlz7mvgn-mJ"
      }
    },
    {
      "cell_type": "code",
      "source": [
        "# Evaluation\n",
        "gcn_model.eval()\n",
        "with torch.no_grad():\n",
        "    predictions = torch.argmax(gcn_model(node_features, adjacency_matrix), dim=1)\n",
        "\n",
        "accuracy = torch.sum(predictions == node_labels).item() / node_labels.size(0)\n",
        "print(f'Accuracy: {accuracy:.4f}')"
      ],
      "metadata": {
        "colab": {
          "base_uri": "https://localhost:8080/"
        },
        "id": "ccr8gEZabgy7",
        "outputId": "aad01f2a-5ba7-43e8-abcb-72f9e6cb74ad"
      },
      "execution_count": null,
      "outputs": [
        {
          "output_type": "stream",
          "name": "stdout",
          "text": [
            "Accuracy: 0.4412\n"
          ]
        }
      ]
    },
    {
      "cell_type": "markdown",
      "source": [
        "\n",
        "**Code Breakdown:**\n",
        "\n",
        "1. **Extracting Node Embeddings:**\n",
        "   - `node_embeddings = gcn_model.layer1(node_features, adjacency_matrix).detach().numpy()` extracts the node embeddings learned by the first layer of the graph convolutional network (GCN) model.\n",
        "   - These embeddings capture the structural and feature information of nodes within the graph.\n",
        "\n",
        "2. **Applying t-SNE:**\n",
        "   - `node_embeddings_tsne = TSNE(n_components=2).fit_transform(node_embeddings)` applies t-distributed stochastic neighbor embedding (t-SNE) to reduce the dimensionality of the embeddings from their original higher dimension to 2 dimensions for visualization.\n",
        "   - t-SNE excels at preserving local structure, making it suitable for visualizing high-dimensional data.\n",
        "\n",
        "3. **Creating Visualization:**\n",
        "   - `plt.scatter(node_embeddings_tsne[:, 0], node_embeddings_tsne[:, 1], c=node_labels.numpy(), cmap='viridis', edgecolors='k')` creates a scatter plot of the 2D embeddings using Matplotlib.\n",
        "   - Nodes are colored based on their labels (e.g., node classes).\n",
        "   - `cmap='viridis'` sets the color scheme, and `edgecolors='k'` adds black outlines for clarity.\n",
        "   - `plt.title(\"Learned Node Representations using GCN\")` sets the plot title.\n",
        "   - `plt.show()` displays the plot.\n",
        "\n",
        "**Example Visualization:**\n",
        "\n",
        "\n",
        "\n",
        "**Key Points:**\n",
        "\n",
        "- t-SNE helps visualize high-dimensional data in 2D or 3D space for visual understanding.\n",
        "- Node embeddings learned by GCNs encode structural and feature information.\n",
        "- Visualization can reveal patterns, clusters, outliers, and relationships among nodes.\n",
        "- It can aid in interpreting the model's learned representations and understanding graph structure.\n"
      ],
      "metadata": {
        "id": "epiBDPUkoLru"
      }
    },
    {
      "cell_type": "code",
      "source": [
        "# Visualize the learned node representations using t-SNE\n",
        "from sklearn.manifold import TSNE\n",
        "\n",
        "node_embeddings = gcn_model.layer1(node_features, adjacency_matrix).detach().numpy()\n",
        "node_embeddings_tsne = TSNE(n_components=2).fit_transform(node_embeddings)\n",
        "\n",
        "# Visualize the node embeddings\n",
        "plt.scatter(node_embeddings_tsne[:, 0], node_embeddings_tsne[:, 1], c=node_labels.numpy(), cmap='viridis', edgecolors='k')\n",
        "plt.title(\"Learned Node Representations using GCN\")\n",
        "plt.show()"
      ],
      "metadata": {
        "colab": {
          "base_uri": "https://localhost:8080/",
          "height": 452
        },
        "id": "CfCPIQr7bjG-",
        "outputId": "30c092fe-45c2-495b-c439-96012e1aa8c0"
      },
      "execution_count": null,
      "outputs": [
        {
          "output_type": "display_data",
          "data": {
            "text/plain": [
              "<Figure size 640x480 with 1 Axes>"
            ],
            "image/png": "[encoded data removed]"
          },
          "metadata": {}
        }
      ]
    },
    {
      "cell_type": "markdown",
      "source": [
        "# Module 5 :  Modeling User Behavior and Predicting Interactions with RNNs\n",
        "\n",
        "*   Recurrent Neural Networks (RNNs) and LSTM networks\n",
        "*   Modeling user sequences and predicting future actions\n",
        "*   RNN applications in social network personalization and recommendation systems\n",
        "*   Techniques for handling long-term dependencies and vanishing gradients\n"
      ],
      "metadata": {
        "id": "YbKgv-VWQGkW"
      }
    },
    {
      "cell_type": "code",
      "source": [
        "import torch\n",
        "import torch.nn as nn\n",
        "import torch.optim as optim\n",
        "import numpy as np\n",
        "import pandas as pd\n",
        "from sklearn.model_selection import train_test_split\n",
        "from sklearn.preprocessing import StandardScaler\n",
        "from sklearn.metrics import accuracy_score, classification_report\n",
        "from torch.nn.utils.rnn import pad_sequence"
      ],
      "metadata": {
        "id": "A7ppaIXSVknk"
      },
      "execution_count": null,
      "outputs": []
    },
    {
      "cell_type": "markdown",
      "source": [
        "\n",
        "**Code Breakdown:**\n",
        "\n",
        "1. **Setting Random Seed:**\n",
        "   - `np.random.seed(42)` ensures reproducibility of the random data generation by setting a fixed seed for the NumPy random number generator.\n",
        "\n",
        "2. **Simulating User Interactions:**\n",
        "   - **Generating User IDs:**\n",
        "     - `user_ids = np.random.choice(range(num_users), size=5000)` creates an array of 5000 user IDs, randomly selected from a pool of 1000 possible users.\n",
        "   - **Generating Timestamps:**\n",
        "     - `timestamps = np.sort(np.random.randint(1, 100, size=5000))` creates an array of 5000 timestamps, randomly generated between 1 and 99 (inclusive), and then sorted in ascending order.\n",
        "   - **Generating Interaction Types:**\n",
        "     - `interaction_types = np.random.choice([0, 1], size=5000, p=[0.8, 0.2])` creates an array of 5000 interaction types, where 80% are 0 (representing one type of interaction) and 20% are 1 (representing another type).\n",
        "\n",
        "**Example:**\n",
        "\n",
        "Consider the following generated data:\n",
        "\n",
        "```\n",
        "user_ids = [54, 231, 789, ..., 12]\n",
        "timestamps = [2, 15, 42, ..., 98]\n",
        "interaction_types = [0, 1, 0, ..., 0]\n",
        "```\n",
        "\n",
        "- This represents a sequence of interactions where:\n",
        "    - User 54 interacted at timestamp 2 with interaction type 0.\n",
        "    - User 231 interacted at timestamp 15 with interaction type 1.\n",
        "    - User 789 interacted at timestamp 42 with interaction type 0, and so on.\n",
        "\n",
        "**Key Points:**\n",
        "\n",
        "- This code generates synthetic data to simulate user interactions with an online platform.\n",
        "- It's useful when real data is unavailable or for testing model performance under controlled conditions.\n",
        "- You can adjust parameters (number of users, timestamps, interaction types, probabilities) to create different scenarios.\n"
      ],
      "metadata": {
        "id": "kD7xWC-WocDA"
      }
    },
    {
      "cell_type": "code",
      "source": [
        "# Generate synthetic user interaction data\n",
        "np.random.seed(42)\n",
        "\n",
        "# Simulating user interactions with an online platform\n",
        "# Let's assume we have data in the form of (user_id, timestamp, interaction_type)\n",
        "num_users = 1000\n",
        "user_ids = np.random.choice(range(num_users), size=5000)\n",
        "timestamps = np.sort(np.random.randint(1, 100, size=5000))\n",
        "interaction_types = np.random.choice([0, 1], size=5000, p=[0.8, 0.2])"
      ],
      "metadata": {
        "id": "hzham_GqVnmF"
      },
      "execution_count": null,
      "outputs": []
    },
    {
      "cell_type": "markdown",
      "source": [
        "\n",
        "**Constructing a DataFrame:**\n",
        "\n",
        "- `data = pd.DataFrame({'user_id': user_ids, 'timestamp': timestamps, 'interaction_type': interaction_types})` creates a DataFrame, a table-like structure for storing and manipulating data in Python's pandas library.\n",
        "- It has three columns:\n",
        "    - `user_id`: Unique identifier for each user.\n",
        "    - `timestamp`: Time of each user interaction.\n",
        "    - `interaction_type`: Type of interaction performed by a user (e.g., click, purchase, view).\n",
        "\n",
        "**Sorting Data:**\n",
        "\n",
        "- `data.sort_values(['user_id', 'timestamp'], inplace=True)` sorts the DataFrame by `user_id` and then by `timestamp` within each user's interactions.\n",
        "- This creates a chronological order of events for each user.\n",
        "\n",
        "**Creating User Interaction Sequences:**\n",
        "\n",
        "- `sequences = data.groupby('user_id')['interaction_type'].apply(list).reset_index(name='interaction_sequence')` groups the DataFrame by `user_id` and creates a list of interaction types for each user, representing their interaction sequences.\n",
        "\n",
        "**Example:**\n",
        "\n",
        "Consider the following raw data:\n",
        "\n",
        "| user_id | timestamp | interaction_type |\n",
        "|---|---|---|\n",
        "| 1 | 10 | click |\n",
        "| 2 | 5 | view |\n",
        "| 1 | 15 | purchase |\n",
        "| 2 | 8 | click |\n",
        "| 1 | 20 | view |\n",
        "\n",
        "After sorting and creating sequences:\n",
        "\n",
        "| user_id | interaction_sequence |\n",
        "|---|---|\n",
        "| 1 | [click, purchase, view] |\n",
        "| 2 | [view, click] |\n",
        "\n",
        "**Key Points:**\n",
        "\n",
        "- DataFrames are essential for organizing and working with tabular data in Python.\n",
        "- Sorting data chronologically is crucial for analyzing sequences of events.\n",
        "- Creating interaction sequences captures the order of actions performed by users, enabling analysis of user behavior patterns.\n"
      ],
      "metadata": {
        "id": "ri0nLVwaorDr"
      }
    },
    {
      "cell_type": "code",
      "source": [
        "data = pd.DataFrame({'user_id': user_ids, 'timestamp': timestamps, 'interaction_type': interaction_types})\n",
        "\n",
        "# Sort data by user_id and timestamp\n",
        "data.sort_values(['user_id', 'timestamp'], inplace=True)\n",
        "\n",
        "# Create sequences of user interactions\n",
        "sequences = data.groupby('user_id')['interaction_type'].apply(list).reset_index(name='interaction_sequence')"
      ],
      "metadata": {
        "id": "vYfOTwt6VrdW"
      },
      "execution_count": null,
      "outputs": []
    },
    {
      "cell_type": "markdown",
      "source": [
        "\n",
        "**Splitting Data:**\n",
        "\n",
        "- **`train_data, test_data = train_test_split(sequences, test_size=0.2, random_state=42)`:**\n",
        "    - Splits the dataset `sequences` into two sets:\n",
        "      - 80% for training (`train_data`)\n",
        "      - 20% for testing (`test_data`)\n",
        "    - `random_state=42` ensures reproducible results by fixing the random seed for splitting.\n",
        "\n",
        "**Padding Sequences:**\n",
        "\n",
        "- **`train_padded_sequences = pad_sequence(...)` and `test_padded_sequences = pad_sequence(...)`:**\n",
        "    - Pad sequences within each set to have the same length, necessary for batch processing in RNNs.\n",
        "    - `pad_sequence` function:\n",
        "      - Takes a list of tensors (sequences) as input.\n",
        "      - Pads them with zeros (or a specified value) to reach the maximum length in the collection.\n",
        "      - `batch_first=True` arranges the padded sequences as (batch_size, max_length, features).\n",
        "\n",
        "**Example:**\n",
        "\n",
        "Consider sequences representing user interactions:\n",
        "\n",
        "- **Original Data:**\n",
        "   ```\n",
        "   sequences = [\n",
        "       [1, 0, 1, 0],  # User 1\n",
        "       [0, 1, 1],     # User 2\n",
        "       [1, 1, 0, 1, 0]  # User 3\n",
        "   ]\n",
        "   ```\n",
        "- **After Splitting (randomly, for illustration):**\n",
        "   ```\n",
        "   train_data = [\n",
        "       [1, 0, 1, 0],  # User 1\n",
        "       [1, 1, 0, 1, 0]  # User 3\n",
        "   ]\n",
        "   test_data = [[0, 1, 1]]  # User 2\n",
        "   ```\n",
        "- **After Padding:**\n",
        "   ```\n",
        "   train_padded_sequences = [\n",
        "       [[1, 0, 1, 0, 0]],  # User 1 padded to length 5\n",
        "       [[1, 1, 0, 1, 0]]   # User 3 already has length 5\n",
        "   ]\n",
        "   test_padded_sequences = [\n",
        "       [[0, 1, 1, 0, 0]]  # User 2 padded to length 5\n",
        "   ]\n",
        "   ```\n",
        "\n",
        "**Key Points:**\n",
        "\n",
        "- Splitting ensures a separate set for testing model performance on unseen data.\n",
        "- Padding enables efficient batch processing in RNNs, which expect inputs of uniform length.\n",
        "- These steps are crucial in preparing sequence data for RNN-based tasks like predicting future interactions.\n"
      ],
      "metadata": {
        "id": "IjCggJJQo6XX"
      }
    },
    {
      "cell_type": "code",
      "source": [
        "# Split the data into training and testing sets\n",
        "train_data, test_data = train_test_split(sequences, test_size=0.2, random_state=42)\n",
        "\n",
        "# Pad sequences to the maximum length\n",
        "train_padded_sequences = pad_sequence([torch.FloatTensor(seq) for seq in train_data['interaction_sequence']], batch_first=True)\n",
        "test_padded_sequences = pad_sequence([torch.FloatTensor(seq) for seq in test_data['interaction_sequence']], batch_first=True)"
      ],
      "metadata": {
        "id": "wRaM77-cVvAd"
      },
      "execution_count": null,
      "outputs": []
    },
    {
      "cell_type": "markdown",
      "source": [
        "\n",
        "**Purpose:**\n",
        "\n",
        "- This code applies standardization separately to the training and testing sets, ensuring feature values are centered around a mean of 0 and have a standard deviation of 1.\n",
        "- It's crucial for machine learning models that are sensitive to feature scale, as it can improve model convergence and performance.\n",
        "\n",
        "**Step-by-Step Breakdown:**\n",
        "\n",
        "1. **Instantiate Scaler:**\n",
        "   - `scaler = StandardScaler()` creates a scaler object to standardize features.\n",
        "\n",
        "2. **Flatten Sequences:**\n",
        "   - `train_flat_sequences = train_padded_sequences.view(-1, train_padded_sequences.size(-2))` reshapes the 3D padded sequences (batch size, sequence length, 1 feature) into 2D (batch size * sequence length, 1 feature) for scaling.\n",
        "   - `test_flat_sequences = test_padded_sequences.view(-1, test_padded_sequences.size(-2))` does the same for test sequences.\n",
        "\n",
        "3. **Apply Scaling Separately:**\n",
        "   - `train_scaled_sequences = scaler.fit_transform(train_flat_sequences.numpy())` fits the scaler on training data and transforms it.\n",
        "   - `test_scaled_sequences = scaler.fit_transform(test_flat_sequences.numpy())` fits a separate scaler on test data and transforms it.\n",
        "\n",
        "4. **Reshape Back:**\n",
        "   - `train_scaled_sequences = torch.FloatTensor(train_scaled_sequences.reshape(*train_padded_sequences.shape))` reshapes back to the original 3D shape.\n",
        "   - `test_scaled_sequences = torch.FloatTensor(test_scaled_sequences.reshape(*test_padded_sequences.shape))` does the same for test sequences.\n",
        "\n",
        "**Example:**\n",
        "\n",
        "Consider 3 sequences with varying lengths:\n",
        "\n",
        "```\n",
        "Original padded sequences:\n",
        "[[0.5, 1.2, 0.3, 0.0]]  # Length 4\n",
        "[[1.8, 0.9]]             # Length 2\n",
        "[[2.4, 1.1, 3.5]]         # Length 3\n",
        "```\n",
        "\n",
        "After flattening and scaling:\n",
        "\n",
        "```\n",
        "Flattened shapes: (10, 1), (4, 1)\n",
        "Scaled values:\n",
        "[[-0.674,  1.032, -1.007, -1.345]]\n",
        "[[ 1.483, -0.259]]\n",
        "[[ 1.959,  0.685,  2.934]]\n",
        "```\n",
        "\n",
        "Reshaped back to original form:\n",
        "\n",
        "```\n",
        "[[-0.674,  1.032, -1.007, -1.345]]\n",
        "[[ 1.483, -0.259]]\n",
        "[[ 1.959,  0.685,  2.934]]\n",
        "```\n",
        "\n",
        "**Key Points:**\n",
        "\n",
        "- Scaling is often crucial for model performance.\n",
        "- Separate scaling for training and testing avoids information leakage from test data.\n",
        "- Consider scaling for most numerical features in machine learning tasks.\n"
      ],
      "metadata": {
        "id": "WzlUKO1-pIIo"
      }
    },
    {
      "cell_type": "code",
      "source": [
        "# Apply scaling separately to the training and testing sets\n",
        "scaler = StandardScaler()\n",
        "\n",
        "# Flatten the sequences before scaling (ensure consistent dimensions)\n",
        "train_flat_sequences = train_padded_sequences.view(-1, train_padded_sequences.size(-2))  # Corrected dimension\n",
        "test_flat_sequences = test_padded_sequences.view(-1, test_padded_sequences.size(-2))   # Corrected dimension\n",
        "\n",
        "# Apply scaling\n",
        "train_scaled_sequences = scaler.fit_transform(train_flat_sequences.numpy())\n",
        "test_scaled_sequences = scaler.fit_transform(test_flat_sequences.numpy())  # Fit on test set too\n",
        "\n",
        "# Reshape back to the original shape\n",
        "train_scaled_sequences = torch.FloatTensor(train_scaled_sequences.reshape(*train_padded_sequences.shape))\n",
        "test_scaled_sequences = torch.FloatTensor(test_scaled_sequences.reshape(*test_padded_sequences.shape))\n"
      ],
      "metadata": {
        "id": "ZQj_O-VZVyOj"
      },
      "execution_count": null,
      "outputs": []
    },
    {
      "cell_type": "markdown",
      "source": [
        "**Code Breakdown:**\n",
        "\n",
        "**1. Defining the LSTMModel Class:**\n",
        "\n",
        "- `class LSTMModel(nn.Module):` creates a class that inherits from `nn.Module`, PyTorch's base class for neural network modules.\n",
        "\n",
        "**2. Initializing the Model:**\n",
        "\n",
        "- `def __init__(self, input_size, hidden_size, output_size):` initializes the model with three key parameters:\n",
        "    - `input_size`: The number of features in each input data point.\n",
        "    - `hidden_size`: The number of hidden units in the LSTM cells, controlling the model's capacity to learn complex patterns.\n",
        "    - `output_size`: The number of output classes for the prediction task.\n",
        "- `self.lstm = nn.LSTM(input_size, hidden_size, batch_first=True)` creates an LSTM layer, a specialized RNN unit capable of learning long-term dependencies in sequences.\n",
        "    - `batch_first=True` ensures the model expects input sequences in the format (batch_size, sequence_length, input_size).\n",
        "- `self.fc = nn.Linear(hidden_size, output_size)` creates a fully connected layer to transform the final output of the LSTM layer into the desired output classes.\n",
        "\n",
        "**3. Forward Pass:**\n",
        "\n",
        "- `def forward(self, x):` defines how the model processes input data:\n",
        "    - `out, _ = self.lstm(x)` passes the input `x` through the LSTM layer, producing hidden states and cell states.\n",
        "    - `out = self.fc(out[:, -1, :])` extracts the last time step output from the LSTM (`out[:, -1, :]`) and passes it through the fully connected layer (`self.fc`) for the final prediction.\n",
        "    - `return out` returns the model's output.\n",
        "\n",
        "**Example:**\n",
        "\n",
        "Consider predicting the next word in a sentence based on previous words:\n",
        "\n",
        "- **Input:** [1, 4, 2, 5] (representing word IDs)\n",
        "- **LSTM:** Processes the sequence, capturing dependencies between words.\n",
        "- **Output:** [0.7, 0.2, 0.1] (probabilities for the next word being words 0, 1, or 2)\n",
        "\n",
        "**Key Points:**\n",
        "\n",
        "- LSTMs are powerful for tasks involving sequential data, like text, time series, or music.\n",
        "- They excel at capturing long-term dependencies and patterns within sequences.\n",
        "- The model's structure and hyperparameters (input_size, hidden_size, output_size) are tailored to specific tasks.\n"
      ],
      "metadata": {
        "id": "Wa_p_Q9ypYVT"
      }
    },
    {
      "cell_type": "code",
      "source": [
        "# Define the RNN model with LSTM\n",
        "class LSTMModel(nn.Module):\n",
        "    def __init__(self, input_size, hidden_size, output_size):\n",
        "        super(LSTMModel, self).__init__()\n",
        "        self.lstm = nn.LSTM(input_size=input_size, hidden_size=hidden_size, batch_first=True)\n",
        "        self.fc = nn.Linear(hidden_size, output_size)\n",
        "\n",
        "    def forward(self, x):\n",
        "        out, _ = self.lstm(x)\n",
        "        out = self.fc(out[:, -1, :])  # Take the last time step output\n",
        "        return out"
      ],
      "metadata": {
        "id": "tASJ9N_0V19g"
      },
      "execution_count": null,
      "outputs": []
    },
    {
      "cell_type": "markdown",
      "source": [
        "\n",
        "**Model Instantiation:**\n",
        "\n",
        "- **Defining Model Architecture:**\n",
        "   - `input_size=1`: Each input to the model consists of a single feature representing the interaction type.\n",
        "   - `hidden_size=64`: The LSTM layer has 64 hidden units, capturing information from previous sequences.\n",
        "   - `output_size=2`: The model outputs probabilities for two classes (interaction or no interaction).\n",
        "- **Creating Model Instance:**\n",
        "   - `model = LSTMModel(input_size, hidden_size, output_size)` creates an instance of the `LSTMModel` class, designed for sequential data.\n",
        "\n",
        "**Loss and Optimizer:**\n",
        "\n",
        "- **Measuring Performance:**\n",
        "   - `criterion = nn.CrossEntropyLoss()` defines the loss function, measuring how well the model's predictions align with the true labels.\n",
        "- **Optimizing Model Updates:**\n",
        "   - `optimizer = optim.Adam(model.parameters(), lr=0.001)` creates an optimizer using the Adam algorithm, adjusting model parameters during training to minimize loss.\n",
        "     - `lr=0.001`: Sets the learning rate, controlling how much model parameters change with each update.\n",
        "\n",
        "**Example:**\n",
        "\n",
        "Imagine predicting whether a user will interact with a platform based on their past interactions:\n",
        "\n",
        "- **Input:** [0, 1, 0, 1, ...] (interaction types)\n",
        "- **Model Processes:**\n",
        "   - LSTM layer learns long-term dependencies in the sequence.\n",
        "   - Output layer produces probability scores for each class.\n",
        "- **Loss Calculation:** Cross-entropy loss compares model's prediction with the actual interaction (1 or 0).\n",
        "- **Optimization:** Adam adjusts model weights to reduce loss in subsequent iterations.\n",
        "\n",
        "**Key Points:**\n",
        "\n",
        "- LSTMs are well-suited for sequential data, capturing temporal patterns and dependencies.\n",
        "- Loss functions measure model performance, guiding optimization.\n",
        "- Optimizers update model parameters to minimize loss and improve predictions.\n"
      ],
      "metadata": {
        "id": "_-Cay3NDpnwh"
      }
    },
    {
      "cell_type": "code",
      "source": [
        "# Instantiate the model\n",
        "input_size = 1  # Number of features in the input (interaction types)\n",
        "hidden_size = 64\n",
        "output_size = 2  # Binary classification: interaction or no interaction\n",
        "model = LSTMModel(input_size, hidden_size, output_size)\n",
        "\n",
        "# Define loss and optimizer\n",
        "criterion = nn.CrossEntropyLoss()\n",
        "optimizer = optim.Adam(model.parameters(), lr=0.001)"
      ],
      "metadata": {
        "id": "h2xj-AWgV7rJ"
      },
      "execution_count": null,
      "outputs": []
    },
    {
      "cell_type": "markdown",
      "source": [
        "\n",
        "**Model Instantiation:**\n",
        "\n",
        "- **Setting Up the Architecture:**\n",
        "    - `input_size=1`: Specifies that each input to the model consists of a single feature, representing the interaction type in this case.\n",
        "    - `hidden_size=64`: Determines the number of hidden units in the LSTM layer, responsible for capturing long-term dependencies in the data. This choice of 64 suggests a moderate model capacity.\n",
        "    - `output_size=2`: Indicates that the model will output probabilities for two classes (interaction or no interaction), as it's a binary classification task.\n",
        "- **Creating the Model Instance:**\n",
        "    - `model = LSTMModel(input_size, hidden_size, output_size)` instantiates a model of the `LSTMModel` class, specifically designed for handling sequential data like user interactions.\n",
        "\n",
        "**Loss and Optimizer:**\n",
        "\n",
        "- **Quantifying Performance:**\n",
        "    - `criterion = nn.CrossEntropyLoss()` establishes the loss function, which measures the discrepancy between the model's predictions and the true labels. Cross-entropy loss is commonly used for classification tasks.\n",
        "- **Guiding Model Updates:**\n",
        "    - `optimizer = optim.Adam(model.parameters(), lr=0.001)` creates an optimizer using the Adam algorithm, which efficiently updates model parameters during training to minimize the loss.\n",
        "        - `lr=0.001`: Sets the learning rate, controlling the magnitude of parameter updates in each training step.\n",
        "\n",
        "**Example:**\n",
        "\n",
        "**Predicting User Interactions:**\n",
        "\n",
        "- **Input:** [0, 1, 0, 1, ...] (sequence of interaction types for a user)\n",
        "- **Model Processes:**\n",
        "    - The LSTM layer processes the sequence, learning patterns and dependencies across time steps.\n",
        "    - The output layer produces two scores representing the probabilities of interaction and no interaction.\n",
        "- **Loss Calculation:**\n",
        "    - Cross-entropy loss compares the model's predicted scores with the actual interaction (1 or 0) for that user.\n",
        "- **Optimization:**\n",
        "    - Adam optimizer adjusts the model's weights and biases to reduce the loss in subsequent training iterations, aiming for better predictions.\n",
        "\n",
        "**Key Points:**\n",
        "\n",
        "- LSTMs excel at capturing long-term dependencies within sequential data, making them suitable for tasks like predicting user interactions.\n",
        "- Loss functions play a vital role in evaluating model performance and guiding the optimization process.\n",
        "- Optimizers like Adam efficiently update model parameters to minimize loss and improve model accuracy.\n"
      ],
      "metadata": {
        "id": "Y-GXRxyGp6hq"
      }
    },
    {
      "cell_type": "code",
      "source": [
        "# Training the LSTM model\n",
        "num_epochs = 10\n",
        "for epoch in range(num_epochs):\n",
        "    model.train()\n",
        "    optimizer.zero_grad()\n",
        "    outputs = model(train_scaled_sequences.unsqueeze(2))\n",
        "    labels = torch.randint(0, output_size, (train_scaled_sequences.size(0),))\n",
        "    loss = criterion(outputs, labels)\n",
        "    loss.backward()\n",
        "    optimizer.step()\n",
        "\n",
        "    print(f'Epoch [{epoch+1}/{num_epochs}], Loss: {loss.item():.4f}')\n",
        "\n",
        "# Evaluation\n",
        "model.eval()\n",
        "with torch.no_grad():\n",
        "    test_outputs = model(test_scaled_sequences.unsqueeze(2))\n",
        "    predicted_labels = torch.argmax(test_outputs, dim=1)"
      ],
      "metadata": {
        "colab": {
          "base_uri": "https://localhost:8080/"
        },
        "id": "WPcnEKv3V-a4",
        "outputId": "8e10be9e-6ed5-47f2-f224-8da96d158f67"
      },
      "execution_count": null,
      "outputs": [
        {
          "output_type": "stream",
          "name": "stdout",
          "text": [
            "Epoch [1/10], Loss: 0.6985\n",
            "Epoch [2/10], Loss: 0.6933\n",
            "Epoch [3/10], Loss: 0.6984\n",
            "Epoch [4/10], Loss: 0.6948\n",
            "Epoch [5/10], Loss: 0.6956\n",
            "Epoch [6/10], Loss: 0.6957\n",
            "Epoch [7/10], Loss: 0.6923\n",
            "Epoch [8/10], Loss: 0.6936\n",
            "Epoch [9/10], Loss: 0.6929\n",
            "Epoch [10/10], Loss: 0.6931\n"
          ]
        }
      ]
    },
    {
      "cell_type": "markdown",
      "source": [
        "\n",
        "**Evaluating Model Performance:**\n",
        "\n",
        "- **Calculating Accuracy:**\n",
        "   - `accuracy = accuracy_score(true_labels, predicted_labels)` computes the model's accuracy, the proportion of correctly predicted labels.\n",
        "   - `true_labels` are derived from the test data, indicating whether each user had any interactions (`1`) or not (`0`).\n",
        "   - `predicted_labels.numpy()` are the model's predicted interaction classes.\n",
        "\n",
        "- **Generating Classification Report:**\n",
        "   - `print(classification_report(true_labels, predicted_labels))` produces a detailed report, including:\n",
        "     - Precision: Accuracy for each class individually (proportion of correctly predicted positive labels out of all predicted positive labels).\n",
        "     - Recall: Ability to identify positive labels (proportion of correctly predicted positive labels out of all actual positive labels).\n",
        "     - F1-score: Harmonic mean of precision and recall, balancing both measures.\n",
        "     - Support: Number of examples in each class.\n",
        "\n",
        "**Example:**\n",
        "\n",
        "Consider 10 test users with predicted and actual interaction labels:\n",
        "\n",
        "| User | True Label | Predicted Label |\n",
        "|---|---|---|\n",
        "| 1 | 1 | 1 |\n",
        "| 2 | 0 | 1 |\n",
        "| 3 | 1 | 0 |\n",
        "| ... | ... | ... |\n",
        "| 10 | 1 | 1 |\n",
        "\n",
        "- **Accuracy:** (8 correct predictions / 10 total) = 0.80\n",
        "- **Classification Report:** Breakdown of performance for each class (interaction/no interaction)\n",
        "\n",
        "**Key Points:**\n",
        "\n",
        "- Accuracy provides a basic assessment of overall correctness.\n",
        "- Classification report offers a more nuanced evaluation, highlighting strengths and weaknesses in different aspects of prediction.\n",
        "- These metrics help understand model performance and guide potential improvements.\n"
      ],
      "metadata": {
        "id": "luMJR3_eqI8i"
      }
    },
    {
      "cell_type": "code",
      "source": [
        "\n",
        "accuracy = accuracy_score(test_data['interaction_sequence'].apply(lambda x: 1 if len(x) > 0 else 0), predicted_labels.numpy())\n",
        "print(f'Accuracy: {accuracy:.4f}')\n",
        "print('\\nClassification Report:\\n', classification_report(test_data['interaction_sequence'].apply(lambda x: 1 if len(x) > 0 else 0), predicted_labels.numpy()))"
      ],
      "metadata": {
        "colab": {
          "base_uri": "https://localhost:8080/"
        },
        "id": "1C7802wiQq5D",
        "outputId": "195cac1f-ddab-40a6-b435-fa748a28782f"
      },
      "execution_count": null,
      "outputs": [
        {
          "output_type": "stream",
          "name": "stdout",
          "text": [
            "Accuracy: 0.7980\n",
            "\n",
            "Classification Report:\n",
            "               precision    recall  f1-score   support\n",
            "\n",
            "           0       0.00      0.00      0.00         0\n",
            "           1       1.00      0.80      0.89       198\n",
            "\n",
            "    accuracy                           0.80       198\n",
            "   macro avg       0.50      0.40      0.44       198\n",
            "weighted avg       1.00      0.80      0.89       198\n",
            "\n"
          ]
        },
        {
          "output_type": "stream",
          "name": "stderr",
          "text": [
            "/usr/local/lib/python3.10/dist-packages/sklearn/metrics/_classification.py:1344: UndefinedMetricWarning: Recall and F-score are ill-defined and being set to 0.0 in labels with no true samples. Use `zero_division` parameter to control this behavior.\n",
            "  _warn_prf(average, modifier, msg_start, len(result))\n",
            "/usr/local/lib/python3.10/dist-packages/sklearn/metrics/_classification.py:1344: UndefinedMetricWarning: Recall and F-score are ill-defined and being set to 0.0 in labels with no true samples. Use `zero_division` parameter to control this behavior.\n",
            "  _warn_prf(average, modifier, msg_start, len(result))\n",
            "/usr/local/lib/python3.10/dist-packages/sklearn/metrics/_classification.py:1344: UndefinedMetricWarning: Recall and F-score are ill-defined and being set to 0.0 in labels with no true samples. Use `zero_division` parameter to control this behavior.\n",
            "  _warn_prf(average, modifier, msg_start, len(result))\n"
          ]
        }
      ]
    },
    {
      "cell_type": "markdown",
      "source": [
        "# Module 6 : Autoencoders and User Preference Modeling\n",
        "\n",
        "*   Autoencoders for encoding and decoding user preferences\n",
        "*   Collaborative filtering and matrix factorization techniques\n",
        "*   Combining autoencoders with other models for personalized recommendations\n",
        "*   Case studies of effective recommendation systems using autoencoders\n"
      ],
      "metadata": {
        "id": "GwmyXqBKWOI8"
      }
    },
    {
      "cell_type": "code",
      "source": [
        "import torch\n",
        "import torch.nn as nn\n",
        "import torch.optim as optim\n",
        "import numpy as np\n",
        "import pandas as pd\n",
        "from sklearn.model_selection import train_test_split\n",
        "from sklearn.metrics import mean_squared_error\n",
        "from sklearn.preprocessing import LabelEncoder\n",
        "from torch.utils.data import DataLoader, TensorDataset\n",
        "from tqdm import tqdm"
      ],
      "metadata": {
        "id": "iSPMyzp5cYY4"
      },
      "execution_count": null,
      "outputs": []
    },
    {
      "cell_type": "markdown",
      "source": [
        "\n",
        "**Generating Synthetic User Preference Data:**\n",
        "\n",
        "- **Setting Up:**\n",
        "   - `np.random.seed(42)` ensures reproducibility of the randomly generated data.\n",
        "\n",
        "- **Simulating Preferences:**\n",
        "   - `num_users = 1000`, `num_items = 500`: Defines 1000 users and 500 items in the simulation.\n",
        "   - `user_ids = np.random.choice(range(num_users), size=10000)` randomly generates 10000 user IDs from the possible 1000 users.\n",
        "   - `item_ids = np.random.choice(range(num_items), size=10000)` randomly generates 10000 item IDs from the possible 500 items.\n",
        "   - `ratings = np.random.randint(1, 6, size=10000)` assigns random ratings between 1 and 5 (inclusive) to each user-item pair.\n",
        "\n",
        "**Example:**\n",
        "\n",
        "Consider a sample of the generated data:\n",
        "\n",
        "```\n",
        "user_id | item_id | rating\n",
        "------- | --------| --------\n",
        "352      | 127      | 4\n",
        "819      | 23       | 2\n",
        "42      | 415      | 5\n",
        "...      | ...      | ...\n",
        "```\n",
        "\n",
        "- User 352 rated item 127 with a 4.\n",
        "- User 819 rated item 23 with a 2.\n",
        "- User 42 rated item 415 with a 5.\n",
        "\n",
        "**Key Points:**\n",
        "\n",
        "- Synthetic data is often used when real-world data is unavailable or limited.\n",
        "- It can be used for:\n",
        "    - Developing and testing recommendation systems.\n",
        "    - Exploring user behavior patterns.\n",
        "    - Experimenting with different algorithms and techniques.\n",
        "- It's important to consider the assumptions and limitations of synthetic data when interpreting results.\n"
      ],
      "metadata": {
        "id": "l8kgcZJXqbN-"
      }
    },
    {
      "cell_type": "code",
      "source": [
        "# Generate synthetic user preference data\n",
        "np.random.seed(42)\n",
        "\n",
        "# Simulating user preferences with an online platform\n",
        "# Let's assume we have data in the form of (user_id, item_id, rating)\n",
        "num_users = 1000\n",
        "num_items = 500\n",
        "user_ids = np.random.choice(range(num_users), size=10000)\n",
        "item_ids = np.random.choice(range(num_items), size=10000)\n",
        "ratings = np.random.randint(1, 6, size=10000)"
      ],
      "metadata": {
        "id": "yh-25Flfcalt"
      },
      "execution_count": null,
      "outputs": []
    },
    {
      "cell_type": "markdown",
      "source": [
        "\n",
        "**1. Creating a DataFrame:**\n",
        "\n",
        "- **Organizing Data:**\n",
        "   - `data = pd.DataFrame({'user_id': user_ids, 'item_id': item_ids, 'rating': ratings})` creates a DataFrame, a tabular data structure in Python's pandas library.\n",
        "   - It stores user-item interactions with three columns:\n",
        "     - `user_id`: Identifies the user who provided the rating.\n",
        "     - `item_id`: Identifies the item being rated.\n",
        "     - `rating`: Represents the user's rating for the item (e.g., a numerical score like 1-5).\n",
        "\n",
        "**2. Splitting Data into Training and Testing Sets:**\n",
        "\n",
        "- **Purpose:** To evaluate model performance on unseen data and prevent overfitting.\n",
        "- **Splitting:**\n",
        "   - `train_data, test_data = train_test_split(data, test_size=0.2, random_state=42)` randomly divides the DataFrame into two sets:\n",
        "     - `train_data`: Contains 80% of the data for training the model.\n",
        "     - `test_data`: Contains 20% of the data for testing the model's effectiveness.\n",
        "- **Parameters:**\n",
        "   - `test_size=0.2`: Controls the proportion of data allocated to the test set.\n",
        "   - `random_state=42`: Sets a random seed for reproducibility, ensuring consistent splits across different runs.\n",
        "\n",
        "**Example:**\n",
        "\n",
        "Imagine a movie recommendation scenario:\n",
        "\n",
        "- **DataFrame:**\n",
        "   ```\n",
        "         user_id  item_id  rating\n",
        "   0      123      456       5\n",
        "   1      123      789       3\n",
        "   2      456      123       4\n",
        "   3      789      901       2\n",
        "   ```\n",
        "- **Splitting:**\n",
        "   - 80% of ratings (e.g., rows 0, 2, 3) go to `train_data`, used for model training.\n",
        "   - 20% of ratings (e.g., row 1) go to `test_data`, used for unbiased evaluation.\n",
        "\n",
        "**Key Points:**\n",
        "\n",
        "- DataFrames efficiently organize and manipulate tabular data.\n",
        "- Splitting data is crucial for reliable model evaluation and avoiding overfitting.\n",
        "- Random seeds ensure consistent results for comparisons and reproducibility.\n"
      ],
      "metadata": {
        "id": "ZvR0tqq4qqXN"
      }
    },
    {
      "cell_type": "code",
      "source": [
        "data = pd.DataFrame({'user_id': user_ids, 'item_id': item_ids, 'rating': ratings})\n",
        "\n",
        "# Split the data into training and testing sets\n",
        "train_data, test_data = train_test_split(data, test_size=0.2, random_state=42)"
      ],
      "metadata": {
        "id": "Sqmy8DMOcdZS"
      },
      "execution_count": null,
      "outputs": []
    },
    {
      "cell_type": "markdown",
      "source": [
        "**Encoding User and Item IDs:**\n",
        "\n",
        "- **Categorical Data:** User and item IDs are often categorical, representing distinct entities rather than numerical values. Models often require numerical inputs.\n",
        "- **Label Encoder:** `LabelEncoder` transforms categorical labels into numerical values for model compatibility.\n",
        "- **Fitting Encoders:**\n",
        "   - `user_encoder.fit(data['user_id'])` and `item_encoder.fit(data['item_id'])` learn unique mappings for users and items, respectively.\n",
        "   - Fitting on the entire dataset ensures consistent encoding across train and test sets.\n",
        "- **Transforming Data:**\n",
        "   - `transform` methods apply the learned mappings to replace categorical IDs with numerical codes in both training and test sets.\n",
        "\n",
        "**Example:**\n",
        "\n",
        "Consider a recommendation system with users \"Alice,\" \"Bob,\" and \"Charlie\" and items \"Movie 1,\" \"Movie 2,\" and \"Book 3\":\n",
        "\n",
        "- **Before Encoding:**\n",
        "   ```\n",
        "   user_id | item_id\n",
        "   ------- | --------\n",
        "   Alice   | Movie 1\n",
        "   Bob     | Movie 2\n",
        "   Charlie | Book 3\n",
        "   ```\n",
        "- **After Encoding:**\n",
        "   ```\n",
        "   user_id | item_id\n",
        "   ------- | --------\n",
        "   0       | 0\n",
        "   1       | 1\n",
        "   2       | 2\n",
        "   ```\n",
        "\n",
        "**Hyperparameters:**\n",
        "\n",
        "- **Embedding Dimension:** `embedding_dim = 50` specifies the size of the dense vector representations for users and items in the model.\n",
        "- **Hidden Dimension:** `hidden_dim = 20` determines the size of the hidden layer(s) in the model, capturing complex relationships.\n",
        "- **Num Epochs:** `num_epochs = 10` controls how many times the model iterates through the entire training data during learning.\n",
        "- **Learning Rate:** `learning_rate = 0.001` adjusts how much model parameters are updated with each training step.\n",
        "- **Batch Size:** `batch_size = 64` determines the number of data samples processed in each training step.\n"
      ],
      "metadata": {
        "id": "nyofHRBBq4BW"
      }
    },
    {
      "cell_type": "code",
      "source": [
        "# Encode user and item IDs\n",
        "user_encoder = LabelEncoder()\n",
        "item_encoder = LabelEncoder()\n",
        "\n",
        "# Fit both encoders on the entire dataset to ensure all labels are seen\n",
        "user_encoder.fit(data['user_id'])  # Fit on entire data\n",
        "item_encoder.fit(data['item_id'])  # Fit on entire data\n",
        "\n",
        "train_data['user_id'] = user_encoder.transform(train_data['user_id'])\n",
        "train_data['item_id'] = item_encoder.transform(train_data['item_id'])\n",
        "\n",
        "test_data['user_id'] = user_encoder.transform(test_data['user_id'])\n",
        "test_data['item_id'] = item_encoder.transform(test_data['item_id'])\n",
        "\n",
        "# Hyperparameters\n",
        "embedding_dim = 50\n",
        "hidden_dim = 20\n",
        "num_epochs = 10\n",
        "learning_rate = 0.001\n",
        "batch_size = 64"
      ],
      "metadata": {
        "id": "80q9ufydcgiW"
      },
      "execution_count": null,
      "outputs": []
    },
    {
      "cell_type": "markdown",
      "source": [
        "\n",
        "**Model Architecture:**\n",
        "\n",
        "- **Embedding Layers:**\n",
        "    - `user_embedding`: Represents each user as a dense vector of `embedding_dim` dimensions.\n",
        "    - `item_embedding`: Represents each item as a dense vector of `embedding_dim` dimensions.\n",
        "- **Encoder:**\n",
        "    - Compresses concatenated user and item embeddings into a lower-dimensional representation (`hidden_dim`).\n",
        "    - Uses a linear layer followed by a ReLU activation for non-linearity.\n",
        "- **Decoder:**\n",
        "    - Reconstructs original user and item embeddings from the compressed representation.\n",
        "    - Uses two linear layers with ReLU activations, the last one outputting 2 * `embedding_dim` for both user and item embeddings.\n",
        "\n",
        "**Example:**\n",
        "\n",
        "Imagine a recommendation system with 1000 users and 500 items:\n",
        "\n",
        "- **Input:**\n",
        "    - `user_ids`: Tensor containing user IDs for each interaction (e.g., [45, 123, 78]).\n",
        "    - `item_ids`: Tensor containing corresponding item IDs (e.g., [10, 256, 3]).\n",
        "- **Forward Pass:**\n",
        "    1. User and item embeddings are looked up for each input pair.\n",
        "    2. Embeddings are concatenated and fed through the encoder.\n",
        "    3. Encoder produces a compressed representation.\n",
        "    4. Decoder attempts to reconstruct the original embeddings from this representation.\n",
        "- **Output:**\n",
        "    - Reconstructed user and item embeddings (2 * `embedding_dim` dimensions).\n",
        "\n",
        "**Key Points:**\n",
        "\n",
        "- Autoencoders learn meaningful representations by compressing and reconstructing data.\n",
        "- They can be used for tasks like:\n",
        "    - Recommendation systems\n",
        "    - Anomaly detection\n",
        "    - Feature extraction\n",
        "- The trained embeddings can capture user preferences and item characteristics.\n"
      ],
      "metadata": {
        "id": "LupRD_KfrDoW"
      }
    },
    {
      "cell_type": "code",
      "source": [
        "# Define the Autoencoder model\n",
        "class Autoencoder(nn.Module):\n",
        "    def __init__(self, num_users, num_items, embedding_dim, hidden_dim):\n",
        "        super(Autoencoder, self).__init__()\n",
        "        self.user_embedding = nn.Embedding(num_users, embedding_dim)\n",
        "        self.item_embedding = nn.Embedding(num_items, embedding_dim)\n",
        "        self.encoder = nn.Sequential(\n",
        "            nn.Linear(2 * embedding_dim, hidden_dim),\n",
        "            nn.ReLU(),\n",
        "        )\n",
        "        self.decoder = nn.Sequential(\n",
        "            nn.Linear(hidden_dim, embedding_dim),\n",
        "            nn.ReLU(),\n",
        "            nn.Linear(embedding_dim, 2 * embedding_dim),\n",
        "        )\n",
        "\n",
        "    def forward(self, user_ids, item_ids):\n",
        "        user_embedded = self.user_embedding(user_ids)\n",
        "        item_embedded = self.item_embedding(item_ids)\n",
        "        concatenated = torch.cat([user_embedded, item_embedded], dim=1)\n",
        "        encoded = self.encoder(concatenated)\n",
        "        decoded = self.decoder(encoded)\n",
        "        return decoded"
      ],
      "metadata": {
        "id": "kwKOzDGtck-M"
      },
      "execution_count": null,
      "outputs": []
    },
    {
      "cell_type": "markdown",
      "source": [
        "\n",
        "**Model Instantiation:**\n",
        "\n",
        "- **Autoencoder for Collaborative Filtering:** The code creates an instance of an Autoencoder model specifically designed for collaborative filtering tasks.\n",
        "- **Key Parameters:**\n",
        "    - `num_users`: Number of unique users in the dataset.\n",
        "    - `num_items`: Number of unique items in the dataset.\n",
        "    - `embedding_dim`: Dimensionality of the embeddings to be learned for users and items.\n",
        "    - `hidden_dim`: Dimensionality of the hidden layer within the Autoencoder.\n",
        "\n",
        "**Loss Function and Optimizer:**\n",
        "\n",
        "- **Measuring Reconstruction Error:**\n",
        "    - `criterion = nn.MSELoss()`: Sets the loss function to Mean Squared Error (MSE), which measures the difference between the original inputs and their reconstructed versions, aiming for accurate reconstruction.\n",
        "- **Optimizing Model Updates:**\n",
        "    - `optimizer = optim.Adam(model.parameters(), lr=learning_rate)`: Creates an Adam optimizer to adjust model parameters during training to minimize MSE loss.\n",
        "        - `lr=learning_rate`: Controls the step size of model updates.\n",
        "\n",
        "**Converting Data to PyTorch Tensors:**\n",
        "\n",
        "- **TensorDataset:**\n",
        "    - `train_tensor = TensorDataset(torch.tensor(train_data['user_id'].values), torch.tensor(train_data['item_id'].values))`: Creates a PyTorch dataset object containing user IDs and item IDs as tensors, ready for model training.\n",
        "- **DataLoader:**\n",
        "    - `train_loader = DataLoader(train_tensor, batch_size=batch_size, shuffle=True)`: Creates a data loader to efficiently feed data to the model in batches during training, shuffling data for better generalization.\n",
        "\n",
        "**Example (Recommender System):**\n",
        "\n",
        "Imagine a movie recommendation scenario:\n",
        "\n",
        "1. **Input:** User ID and a list of movies they've watched.\n",
        "2. **Autoencoder:**\n",
        "    - Encodes user and movie information into latent representations (embeddings).\n",
        "    - Reconstructs the user's original movie ratings based on these embeddings.\n",
        "3. **Loss Calculation:** MSE Loss measures the difference between actual and reconstructed ratings.\n",
        "4. **Optimization:** Adam updates model parameters to reduce MSE loss and improve reconstruction accuracy.\n",
        "5. **Recommendations:** After training, the model can recommend new movies to users based on learned embeddings and similarities between users and items.\n",
        "\n",
        "**Key Points:**\n",
        "\n",
        "- Autoencoders capture latent patterns in data for tasks like collaborative filtering.\n",
        "- MSE Loss drives the model to accurately reconstruct inputs.\n",
        "- Data preprocessing and loaders are crucial for deep learning workflows.\n"
      ],
      "metadata": {
        "id": "qB2hKQVmrYrr"
      }
    },
    {
      "cell_type": "code",
      "source": [
        "# Instantiate the Autoencoder model\n",
        "model = Autoencoder(num_users=len(user_encoder.classes_), num_items=len(item_encoder.classes_), embedding_dim=embedding_dim, hidden_dim=hidden_dim)\n",
        "\n",
        "# Loss function and optimizer\n",
        "criterion = nn.MSELoss()\n",
        "optimizer = optim.Adam(model.parameters(), lr=learning_rate)\n",
        "\n",
        "# Convert data to PyTorch tensors\n",
        "train_tensor = TensorDataset(torch.tensor(train_data['user_id'].values), torch.tensor(train_data['item_id'].values))\n",
        "train_loader = DataLoader(train_tensor, batch_size=batch_size, shuffle=True)"
      ],
      "metadata": {
        "id": "Vjulh83mcoDE"
      },
      "execution_count": null,
      "outputs": []
    },
    {
      "cell_type": "markdown",
      "source": [
        "\n",
        "**Code Breakdown:**\n",
        "\n",
        "**Training Loop:**\n",
        "\n",
        "- **Iteration over Epochs:** The `for epoch in range(num_epochs):` loop iterates through the specified number of training epochs.\n",
        "- **Training Mode:** `model.train()` sets the model to training mode, enabling model updates.\n",
        "- **Loss Tracking:** `total_loss = 0.0` initializes a variable to accumulate loss across batches.\n",
        "\n",
        "**Batch Processing:**\n",
        "\n",
        "- **Batch Iteration:** `for user_ids, item_ids in tqdm(train_loader, ...):` iterates through batches of user and item IDs from the training data.\n",
        "    - `tqdm` provides a progress bar for visualization.\n",
        "- **Gradient Reset:** `optimizer.zero_grad()` clears accumulated gradients from previous iterations.\n",
        "- **Model Inference:** `outputs = model(user_ids, item_ids)` generates model outputs based on the current batch of inputs.\n",
        "- **Loss Calculation:**\n",
        "    - `model.user_embedding(user_ids)` and `model.item_embedding(item_ids)` retrieve embeddings for users and items.\n",
        "    - `loss = criterion(outputs, torch.cat(...))` compares model outputs with the concatenated embeddings, quantifying reconstruction error.\n",
        "- **Backpropagation:** `loss.backward()` calculates gradients of loss with respect to model parameters.\n",
        "- **Parameter Update:** `optimizer.step()` updates model parameters using calculated gradients to minimize loss.\n",
        "- **Loss Accumulation:** `total_loss += loss.item()` tracks total loss for the epoch.\n",
        "\n",
        "**Epoch Summary:**\n",
        "\n",
        "- **Average Loss:** `print(f'Epoch {epoch + 1}/{num_epochs}, Average Loss: {total_loss / len(train_loader):.4f}')` prints average loss across batches for monitoring training progress.\n",
        "\n",
        "**Example:**\n",
        "\n",
        "- **Context:** Recommending movies to users based on their preferences.\n",
        "- **Model Goal:** Learn user and item embeddings that capture their latent features.\n",
        "- **Training:**\n",
        "    - Model receives a batch of user IDs and item IDs they've interacted with.\n",
        "    - It generates reconstructed interaction scores for each user-item pair.\n",
        "    - Loss measures the difference between reconstructed scores and actual scores.\n",
        "    - Model adjusts embeddings to improve reconstruction accuracy over time.\n",
        "\n",
        "**Key Points:**\n",
        "\n",
        "- Autoencoders aim to reconstruct inputs from a compressed latent representation.\n",
        "- Training involves iteratively feeding data, calculating loss, and updating parameters.\n",
        "- Average loss across batches provides insight into training progress.\n"
      ],
      "metadata": {
        "id": "oUl_JI4drlVM"
      }
    },
    {
      "cell_type": "code",
      "source": [
        "# Training the Autoencoder model\n",
        "for epoch in range(num_epochs):\n",
        "    model.train()\n",
        "    total_loss = 0.0\n",
        "    for user_ids, item_ids in tqdm(train_loader, desc=f'Epoch {epoch + 1}/{num_epochs}'):\n",
        "        optimizer.zero_grad()\n",
        "        outputs = model(user_ids, item_ids)\n",
        "        loss = criterion(outputs, torch.cat([model.user_embedding(user_ids), model.item_embedding(item_ids)], dim=1))\n",
        "        loss.backward()\n",
        "        optimizer.step()\n",
        "        total_loss += loss.item()\n",
        "\n",
        "    print(f'Epoch {epoch + 1}/{num_epochs}, Average Loss: {total_loss / len(train_loader):.4f}')"
      ],
      "metadata": {
        "colab": {
          "base_uri": "https://localhost:8080/"
        },
        "id": "nvEEFyRLcsTA",
        "outputId": "711f5a2a-d4e0-4a55-ced8-40aadad90880"
      },
      "execution_count": null,
      "outputs": [
        {
          "output_type": "stream",
          "name": "stderr",
          "text": [
            "Epoch 1/10: 100%|██████████| 125/125 [00:00<00:00, 148.60it/s]\n"
          ]
        },
        {
          "output_type": "stream",
          "name": "stdout",
          "text": [
            "Epoch 1/10, Average Loss: 0.9382\n"
          ]
        },
        {
          "output_type": "stream",
          "name": "stderr",
          "text": [
            "Epoch 2/10: 100%|██████████| 125/125 [00:01<00:00, 111.02it/s]\n"
          ]
        },
        {
          "output_type": "stream",
          "name": "stdout",
          "text": [
            "Epoch 2/10, Average Loss: 0.7777\n"
          ]
        },
        {
          "output_type": "stream",
          "name": "stderr",
          "text": [
            "Epoch 3/10: 100%|██████████| 125/125 [00:00<00:00, 196.57it/s]\n"
          ]
        },
        {
          "output_type": "stream",
          "name": "stdout",
          "text": [
            "Epoch 3/10, Average Loss: 0.6965\n"
          ]
        },
        {
          "output_type": "stream",
          "name": "stderr",
          "text": [
            "Epoch 4/10: 100%|██████████| 125/125 [00:00<00:00, 163.04it/s]\n"
          ]
        },
        {
          "output_type": "stream",
          "name": "stdout",
          "text": [
            "Epoch 4/10, Average Loss: 0.6392\n"
          ]
        },
        {
          "output_type": "stream",
          "name": "stderr",
          "text": [
            "Epoch 5/10: 100%|██████████| 125/125 [00:01<00:00, 123.73it/s]\n"
          ]
        },
        {
          "output_type": "stream",
          "name": "stdout",
          "text": [
            "Epoch 5/10, Average Loss: 0.5891\n"
          ]
        },
        {
          "output_type": "stream",
          "name": "stderr",
          "text": [
            "Epoch 6/10: 100%|██████████| 125/125 [00:00<00:00, 196.80it/s]\n"
          ]
        },
        {
          "output_type": "stream",
          "name": "stdout",
          "text": [
            "Epoch 6/10, Average Loss: 0.5447\n"
          ]
        },
        {
          "output_type": "stream",
          "name": "stderr",
          "text": [
            "Epoch 7/10: 100%|██████████| 125/125 [00:00<00:00, 267.76it/s]\n"
          ]
        },
        {
          "output_type": "stream",
          "name": "stdout",
          "text": [
            "Epoch 7/10, Average Loss: 0.5052\n"
          ]
        },
        {
          "output_type": "stream",
          "name": "stderr",
          "text": [
            "Epoch 8/10: 100%|██████████| 125/125 [00:00<00:00, 285.32it/s]\n"
          ]
        },
        {
          "output_type": "stream",
          "name": "stdout",
          "text": [
            "Epoch 8/10, Average Loss: 0.4696\n"
          ]
        },
        {
          "output_type": "stream",
          "name": "stderr",
          "text": [
            "Epoch 9/10: 100%|██████████| 125/125 [00:00<00:00, 264.33it/s]\n"
          ]
        },
        {
          "output_type": "stream",
          "name": "stdout",
          "text": [
            "Epoch 9/10, Average Loss: 0.4368\n"
          ]
        },
        {
          "output_type": "stream",
          "name": "stderr",
          "text": [
            "Epoch 10/10: 100%|██████████| 125/125 [00:00<00:00, 266.96it/s]"
          ]
        },
        {
          "output_type": "stream",
          "name": "stdout",
          "text": [
            "Epoch 10/10, Average Loss: 0.4066\n"
          ]
        },
        {
          "output_type": "stream",
          "name": "stderr",
          "text": [
            "\n"
          ]
        }
      ]
    },
    {
      "cell_type": "markdown",
      "source": [
        "\n",
        "**Evaluating the Autoencoder:**\n",
        "\n",
        "1. **Setting Evaluation Mode:**\n",
        "   - `model.eval()`: Switches the model to evaluation mode, disabling dropout and batch normalization for consistent inference.\n",
        "2. **Generating Predictions:**\n",
        "   - `test_predictions = model(torch.tensor(test_data['user_id'].values), torch.tensor(test_data['item_id'].values)).numpy()`:\n",
        "     - Feeds user and item IDs from the test set into the autoencoder model.\n",
        "     - Obtains predicted ratings or interactions.\n",
        "     - Converts tensor output to a NumPy array.\n",
        "\n",
        "**Combining Embeddings:**\n",
        "\n",
        "1. **Retrieving Embeddings:**\n",
        "   - `user_embeddings = np.array([model.user_embedding.weight[user_id].detach().numpy() for user_id in test_data['user_id']])`:\n",
        "     - Extracts user embeddings for each user ID in the test set.\n",
        "   - `item_embeddings = np.array([model.item_embedding.weight[item_id].detach().numpy() for item_id in test_data['item_id']])`:\n",
        "     - Extracts item embeddings for each item ID in the test set.\n",
        "2. **Concatenating Embeddings:**\n",
        "   - `test_predictions = test_predictions + np.concatenate((user_embeddings, item_embeddings), axis=1)`:\n",
        "     - Concatenates user and item embeddings along the column axis (axis=1), creating a richer representation.\n",
        "     - Adds this concatenated array to the initial predictions for potentially improved results.\n",
        "\n",
        "**Example:**\n",
        "\n",
        "Imagine a recommendation system with users and items:\n",
        "\n",
        "- **Initial Predictions:**\n",
        "   - Model predicts a rating of 3.5 for user 1 on item 4.\n",
        "- **Embeddings:**\n",
        "   - User 1 embedding: [0.2, -0.3, 0.4]\n",
        "   - Item 4 embedding: [-0.1, 0.5, 0.2]\n",
        "- **Concatenation:**\n",
        "   - Combined embedding: [0.2, -0.3, 0.4, -0.1, 0.5, 0.2]\n",
        "- **Enhanced Prediction:**\n",
        "   - Final prediction incorporates this combined embedding for a potentially more accurate result.\n",
        "\n",
        "**Key Points:**\n",
        "\n",
        "- Autoencoders can learn latent representations (embeddings) of users and items.\n",
        "- Combining embeddings with model outputs can improve prediction accuracy or provide additional insights.\n",
        "- The choice of concatenation axis depends on the model's architecture and desired output format.\n"
      ],
      "metadata": {
        "id": "AKSp57Ekr2ds"
      }
    },
    {
      "cell_type": "code",
      "source": [
        "# Evaluate the Autoencoder model on the test set\n",
        "model.eval()\n",
        "with torch.no_grad():\n",
        "    test_predictions = model(torch.tensor(test_data['user_id'].values), torch.tensor(test_data['item_id'].values)).numpy()\n",
        "\n",
        "# Correctly create a 2D array with user and item embeddings\n",
        "user_embeddings = np.array([model.user_embedding.weight[user_id].detach().numpy() for user_id in test_data['user_id']])\n",
        "item_embeddings = np.array([model.item_embedding.weight[item_id].detach().numpy() for item_id in test_data['item_id']])\n",
        "\n",
        "# Concatenate embeddings along the correct axis\n",
        "test_predictions = test_predictions + np.concatenate((user_embeddings, item_embeddings), axis=1)"
      ],
      "metadata": {
        "id": "cXujYsyLczSp"
      },
      "execution_count": null,
      "outputs": []
    },
    {
      "cell_type": "markdown",
      "source": [
        "\n",
        "**Calculating Mean Squared Error (MSE):**\n",
        "\n",
        "- **Mean Squared Error:** A common metric for evaluating regression models, measuring the average squared difference between predicted values and true values.\n",
        "- **Formula:** MSE = (1/n) * Σ(y_true - y_pred)^2\n",
        "\n",
        "**Code Breakdown:**\n",
        "\n",
        "1. **Accessing True Ratings:**\n",
        "   - `test_data['rating'].squeeze()` retrieves the true ratings from the test dataset and removes any extra dimensions (e.g., converting a column vector to a 1D array).\n",
        "2. **Accessing Final Predictions:**\n",
        "   - `test_predictions[:, -1]` extracts the final predictions for each sample from the `test_predictions` array. The `[:, -1]` part selects all rows (:) and the last column (-1).\n",
        "3. **Calculating MSE:**\n",
        "   - `mse = mean_squared_error(...)` computes the MSE using the true ratings and final predictions.\n",
        "4. **Printing MSE:**\n",
        "   - `print(f'Mean Squared Error on Test Set: {mse:.4f}')` displays the calculated MSE, formatted to four decimal places.\n",
        "\n",
        "**Example with Visualization:**\n",
        "\n",
        "**Scenario:** Predicting movie ratings on a scale of 1 to 5:\n",
        "\n",
        "\n",
        "\n",
        "**Calculation:**\n",
        "\n",
        "- MSE = ((0.2^2) + (0.4^2) + (0.4^2) + (0.1^2) + (0.8^2)) / 5 = 0.248\n",
        "\n",
        "**Interpretation:**\n",
        "\n",
        "- A lower MSE indicates better model performance.\n",
        "- An MSE of 0.248 suggests an average squared error of about 0.25 points between predictions and true ratings.\n",
        "\n",
        "**Key Points:**\n",
        "\n",
        "- MSE is a straightforward metric for assessing model accuracy in regression tasks.\n",
        "- It penalizes larger errors more heavily due to squaring.\n",
        "- Consider other metrics like MAE (Mean Absolute Error) for different sensitivity to outliers.\n"
      ],
      "metadata": {
        "id": "gu95YxPar1mh"
      }
    },
    {
      "cell_type": "code",
      "source": [
        "# Calculate Mean Squared Error on the test set (use the final dimension for comparison)\n",
        "mse = mean_squared_error(test_data['rating'].squeeze(), test_predictions[:, -1])  # Access final prediction\n",
        "print(f'Mean Squared Error on Test Set: {mse:.4f}')\n"
      ],
      "metadata": {
        "colab": {
          "base_uri": "https://localhost:8080/"
        },
        "id": "_Y67WeaXVqZ2",
        "outputId": "d46727a3-d17a-4db0-d527-e3516cfae93a"
      },
      "execution_count": null,
      "outputs": [
        {
          "output_type": "stream",
          "name": "stdout",
          "text": [
            "Mean Squared Error on Test Set: 12.9358\n"
          ]
        }
      ]
    },
    {
      "cell_type": "markdown",
      "source": [
        "# Module 8 : Graph Representation and Network Analysis with NetworkX\n",
        "\n",
        "# A)   Attention mechanisms and self-supervised learning for social networks\n",
        "\n",
        "Module 8: Advanced Topics and Research Frontiers***\n",
        "•\tAttention mechanisms and self-supervised learning for social networks\n",
        "•\tExplainable AI and interpretable models for personalized experiences\n",
        "•\tMulti-objective optimization and balancing competing goals\n",
        "•\tEmerging trends and future directions in the field\n",
        "\n",
        "\n",
        "\n",
        "\n"
      ],
      "metadata": {
        "id": "CPK0fr2rdsm_"
      }
    },
    {
      "cell_type": "code",
      "source": [
        "import torch\n",
        "import torch.nn as nn\n",
        "import torch.optim as optim\n",
        "import torch.nn.functional as F"
      ],
      "metadata": {
        "id": "68WRG4svsW3p"
      },
      "execution_count": 30,
      "outputs": []
    },
    {
      "cell_type": "markdown",
      "source": [
        "\n",
        "**Key Concept:**\n",
        "\n",
        "- **Graph Attention Networks (GATs)** are a type of neural network architecture that excels at handling graph-structured data.\n",
        "- They incorporate an attention mechanism to selectively focus on relevant neighboring nodes when learning node representations.\n",
        "\n",
        "**Code Breakdown:**\n",
        "\n",
        "**Class `GraphAttentionLayer`:**\n",
        "\n",
        "- **Initialization (`__init__`):**\n",
        "   - `in_features`: Number of input features per node.\n",
        "   - `out_features`: Number of output features per node.\n",
        "   - `self.W`: Linear layer to transform input features.\n",
        "   - `self.a`: Linear layer to compute attention scores between nodes.\n",
        "\n",
        "- **Forward Pass (`forward`):**\n",
        "   1. **Feature Transformation:** `h = self.W(X)` transforms input features using `self.W`.\n",
        "   2. **Attention Calculation:**\n",
        "      - `a_input`: Combines transformed features of all node pairs.\n",
        "      - `e`: Computes attention scores using a leaky ReLU activation.\n",
        "      - `attention`: Normalizes attention scores using softmax, incorporating graph structure from `A` (adjacency matrix).\n",
        "   3. **Attention Aggregation:** `h_prime = torch.matmul(attention, h)` aggregates neighbor features weighted by attention scores.\n",
        "\n",
        "**Example:**\n",
        "\n",
        "Imagine a social network graph:\n",
        "\n",
        "- **Input:**\n",
        "   - `X`: Node features (e.g., interests, demographics).\n",
        "   - `A`: Adjacency matrix representing connections.\n",
        "- **Layer Processes:**\n",
        "   - Transforms input features using `self.W`.\n",
        "   - Calculates attention scores, considering both node features and graph structure.\n",
        "   - Aggregates neighbor features based on attention, capturing contextual information.\n",
        "- **Output:**\n",
        "   - `h_prime`: Updated node representations, incorporating information from both node features and graph structure.\n",
        "\n",
        "**Key Points:**\n",
        "\n",
        "- GATs effectively model relationships between nodes in graphs.\n",
        "- Attention mechanism allows them to focus on more important neighbors for each node.\n",
        "- They are used for tasks like:\n",
        "    - Node classification\n",
        "    - Graph classification\n",
        "    - Link prediction\n",
        "- This layer is a building block for constructing larger graph neural networks.\n"
      ],
      "metadata": {
        "id": "Tqei5PkJsvmr"
      }
    },
    {
      "cell_type": "code",
      "source": [
        "class GraphAttentionLayer(nn.Module):\n",
        "    def __init__(self, in_features, out_features):\n",
        "        super(GraphAttentionLayer, self).__init__()\n",
        "        self.W = nn.Linear(in_features, out_features, bias=False)\n",
        "        self.a = nn.Linear(2*out_features, 1, bias=False)\n",
        "\n",
        "    def forward(self, X, A):\n",
        "        h = self.W(X)\n",
        "        N = h.size(0)\n",
        "\n",
        "        a_input = torch.cat([h.repeat(1, N).view(N*N, -1), h.repeat(N, 1)], dim=1).view(N, -1, 2*self.W.out_features)\n",
        "        e = F.leaky_relu(self.a(a_input).squeeze(), negative_slope=0.2)\n",
        "\n",
        "        attention = F.softmax(e + A, dim=1)\n",
        "        h_prime = torch.matmul(attention, h)\n",
        "\n",
        "        return h_prime\n"
      ],
      "metadata": {
        "id": "sQ1b43-5sbu_"
      },
      "execution_count": 31,
      "outputs": []
    },
    {
      "cell_type": "markdown",
      "source": [
        "\n",
        "**Class Overview:**\n",
        "\n",
        "- **SelfSupervisedSocialNetworkModel:** A model designed for self-supervised learning on social network data. It leverages graph attention layers to capture relationships between nodes.\n",
        "\n",
        "**Structure:**\n",
        "\n",
        "1. **Initialization (`__init__`):**\n",
        "   - `num_nodes`: Number of nodes in the graph.\n",
        "   - `features_dim`: Dimensionality of initial node features (if any).\n",
        "   - `hidden_dim`: Dimensionality of hidden layers.\n",
        "   - `embedding`: Assigns a feature vector to each node.\n",
        "   - `attention1, attention2`: Graph attention layers to process node features based on graph structure.\n",
        "   - `linear`: Final linear layer for task-specific output.\n",
        "\n",
        "2. **Forward Pass (`forward`):**\n",
        "   - `nodes`: Indices of input nodes.\n",
        "   - `adjacency_matrix`: Represents graph connections.\n",
        "   - `X`: Node embeddings, updated through attention layers.\n",
        "   - `output`: Final model output, often used for prediction or further processing.\n",
        "\n",
        "**Example:**\n",
        "\n",
        "- **Social Network:** Imagine a graph representing friendships in a school.\n",
        "- **Task:** Predict missing links (potential friendships).\n",
        "- **Model Process:**\n",
        "   1. Embeds nodes into feature vectors.\n",
        "   2. Applies attention layers to refine embeddings based on connections and learn meaningful representations.\n",
        "   3. Produces output for link prediction (e.g., pairwise scores indicating link likelihood).\n",
        "\n",
        "**Key Points:**\n",
        "\n",
        "- Self-supervised learning creates learning tasks from the data itself, often for better representation learning.\n",
        "- Graph attention layers focus on relevant neighbors for each node, improving feature learning.\n",
        "- This model can be adapted for various social network tasks by adjusting the output layer and training objectives.\n"
      ],
      "metadata": {
        "id": "U3AQ-f3NtDDr"
      }
    },
    {
      "cell_type": "code",
      "source": [
        "class SelfSupervisedSocialNetworkModel(nn.Module):\n",
        "    def __init__(self, num_nodes, features_dim, hidden_dim):\n",
        "        super(SelfSupervisedSocialNetworkModel, self).__init__()\n",
        "        self.embedding = nn.Embedding(num_nodes, features_dim)\n",
        "        self.attention1 = GraphAttentionLayer(features_dim, hidden_dim)\n",
        "        self.attention2 = GraphAttentionLayer(hidden_dim, hidden_dim)\n",
        "        self.linear = nn.Linear(hidden_dim, num_nodes)\n",
        "\n",
        "    def forward(self, nodes, adjacency_matrix):\n",
        "        X = self.embedding(nodes)\n",
        "        X = self.attention1(X, adjacency_matrix)\n",
        "        X = self.attention2(X, adjacency_matrix)\n",
        "        output = self.linear(X)\n",
        "        return output"
      ],
      "metadata": {
        "id": "QMy0-kYXs2_l"
      },
      "execution_count": 32,
      "outputs": []
    },
    {
      "cell_type": "markdown",
      "source": [
        "\n",
        "**Function Purpose:**\n",
        "\n",
        "- This function evaluates a model's performance on a given graph dataset, calculating its accuracy in predicting node labels.\n",
        "\n",
        "**Code Breakdown:**\n",
        "\n",
        "1. **Evaluation Mode:**\n",
        "   - `model.eval()`: Sets the model to evaluation mode, disabling dropout and batch normalization layers for consistent evaluation.\n",
        "\n",
        "2. **Disabling Gradient Calculation:**\n",
        "   - `with torch.no_grad():`: Prevents calculation and storage of gradients, saving memory and computation during evaluation.\n",
        "\n",
        "3. **Forward Pass:**\n",
        "   - `output = model(nodes, adjacency_matrix)`: Passes the input `nodes` and `adjacency_matrix` through the model to obtain predictions.\n",
        "\n",
        "4. **Extracting Predictions:**\n",
        "   - `_, predicted = torch.max(output, 1)`: Extracts the predicted class (node label) for each node from the model's output.\n",
        "\n",
        "5. **Calculating Accuracy:**\n",
        "   - `accuracy = torch.sum(predicted == nodes).item() / nodes.size(0)`: Compares predicted labels with true labels and calculates accuracy as the proportion of correct predictions.\n",
        "\n",
        "6. **Return Accuracy:**\n",
        "   - `return accuracy`: Returns the calculated accuracy value.\n",
        "\n",
        "**Example:**\n",
        "\n",
        "Imagine a model trained to classify nodes in a social network as \"influencers\" or \"non-influencers\":\n",
        "\n",
        "- **Input:**\n",
        "   - `nodes`: Tensor containing node features (e.g., number of followers, connections).\n",
        "   - `adjacency_matrix`: Tensor representing the graph's structure (who's connected to whom).\n",
        "- **Model Processes:**\n",
        "   - Makes predictions based on node features and network structure.\n",
        "- **Evaluation:**\n",
        "   - Compares predicted labels with true labels, calculating accuracy.\n",
        "- **Output:**\n",
        "   - Returns accuracy score, indicating the model's ability to correctly classify nodes.\n",
        "\n",
        "**Key Points:**\n",
        "\n",
        "- Evaluation is crucial for assessing model performance and understanding its effectiveness on unseen data.\n",
        "- This function provides a structured way to evaluate graph-based models.\n",
        "- Accuracy is a common metric, but other metrics like precision, recall, or F1-score might be relevant depending on the task.\n"
      ],
      "metadata": {
        "id": "HhvOVKBQtVpS"
      }
    },
    {
      "cell_type": "code",
      "source": [
        "\n",
        "def evaluate(model, nodes, adjacency_matrix):\n",
        "    model.eval()\n",
        "    with torch.no_grad():\n",
        "        output = model(nodes, adjacency_matrix)\n",
        "        _, predicted = torch.max(output, 1)\n",
        "        accuracy = torch.sum(predicted == nodes).item() / nodes.size(0)\n",
        "    return accuracy"
      ],
      "metadata": {
        "id": "vzFN8hertKG7"
      },
      "execution_count": 33,
      "outputs": []
    },
    {
      "cell_type": "markdown",
      "source": [
        " **Here's an explanation of the code, along with an example:**\n",
        "\n",
        "**Dummy Data Creation:**\n",
        "\n",
        "- **Setting Up Basic Graph Structure:**\n",
        "   - `num_nodes = 100`: Defines a graph with 100 nodes.\n",
        "   - `features_dim = 16`: Each node will have 16 numerical features representing its attributes.\n",
        "   - `hidden_dim = 8`: The model's hidden layer will have 8 units for internal processing.\n",
        "- **Generating Dummy Data:**\n",
        "   - `nodes = torch.randint(0, num_nodes, (num_nodes,))`: Creates a random list of 100 node IDs, likely for masking purposes during self-supervised training.\n",
        "   - `adjacency_matrix = torch.rand((num_nodes, num_nodes))`: Creates a random adjacency matrix representing connections between nodes.\n",
        "\n",
        "**Model Instantiation:**\n",
        "\n",
        "- **Initializing the Model:**\n",
        "   - `model = SelfSupervisedSocialNetworkModel(num_nodes, features_dim, hidden_dim)` creates an instance of a model specifically designed for self-supervised learning on social networks.\n",
        "     - The model's architecture and self-supervised tasks aren't revealed in this code snippet.\n",
        "\n",
        "**Loss Function and Optimizer:**\n",
        "\n",
        "- **Measuring Performance:**\n",
        "   - `criterion = nn.CrossEntropyLoss()` defines the loss function, commonly used for classification tasks to measure the model's prediction accuracy.\n",
        "- **Optimizing Model Updates:**\n",
        "   - `optimizer = optim.Adam(model.parameters(), lr=0.001)` creates an optimizer using the Adam algorithm, which will adjust model parameters during training to minimize the loss function.\n",
        "     - `lr=0.001` sets the learning rate, controlling the magnitude of parameter updates.\n",
        "\n",
        "**Example (Hypothetical):**\n",
        "\n",
        "- **Task:** Predict missing links in the social network.\n",
        "- **Input:** Node features and adjacency matrix.\n",
        "- **Model:** Learns node representations and patterns of connections.\n",
        "- **Loss:** Measures prediction accuracy for missing links.\n",
        "- **Optimization:** Adam updates model parameters to reduce prediction errors.\n",
        "\n",
        "**Key Points:**\n",
        "\n",
        "- Self-supervised learning aims to learn meaningful representations from data without explicit labels.\n",
        "- Social network models are designed to capture relationships and patterns in graphs.\n",
        "- Loss functions and optimizers guide model training in the absence of direct labels.\n"
      ],
      "metadata": {
        "id": "m9Ai8LLOtuqS"
      }
    },
    {
      "cell_type": "code",
      "source": [
        "# Dummy data\n",
        "num_nodes = 100\n",
        "features_dim = 16\n",
        "hidden_dim = 8\n",
        "nodes = torch.randint(0, num_nodes, (num_nodes,))\n",
        "adjacency_matrix = torch.rand((num_nodes, num_nodes))\n",
        "\n",
        "# Model instantiation\n",
        "model = SelfSupervisedSocialNetworkModel(num_nodes, features_dim, hidden_dim)\n",
        "\n",
        "# Loss function and optimizer\n",
        "criterion = nn.CrossEntropyLoss()\n",
        "optimizer = optim.Adam(model.parameters(), lr=0.001)"
      ],
      "metadata": {
        "id": "LUcVRAw-tbJU"
      },
      "execution_count": 34,
      "outputs": []
    },
    {
      "cell_type": "markdown",
      "source": [
        "\n",
        "**Training Loop:**\n",
        "\n",
        "- **Repeated Model Updates:** The loop iterates 100 times (epochs), adjusting model parameters with each iteration to improve its performance on the given task.\n",
        "\n",
        "**Key Steps within Each Epoch:**\n",
        "\n",
        "1. **Model in Training Mode:** `model.train()` prepares the model for training, enabling layers like dropout and batch normalization to function correctly.\n",
        "2. **Forward Pass:** `output = model(nodes, adjacency_matrix)` passes input data (nodes and adjacency matrix) through the model, generating predictions (output).\n",
        "3. **Loss Calculation:** `loss = criterion(output, nodes)` measures the discrepancy between model predictions and true targets using a defined loss function.\n",
        "4. **Gradient Clearing:** `optimizer.zero_grad()` sets model gradients to zero, readying them for new calculations.\n",
        "5. **Backpropagation:** `loss.backward()` calculates gradients of the loss with respect to model parameters, indicating how to adjust them to reduce loss.\n",
        "6. **Parameter Update:** `optimizer.step()` updates model parameters based on calculated gradients, aiming for better predictions in subsequent iterations.\n",
        "7. **Loss Reporting:** `print(f'Epoch {epoch+1}/{100}, Loss: {loss.item()}')` prints current epoch and loss for monitoring training progress.\n",
        "\n",
        "**Evaluation (Every 10 Epochs):**\n",
        "\n",
        "- **Evaluation Mode:** `model.eval()` switches the model to evaluation mode, disabling training-specific behaviors for accurate performance assessment.\n",
        "- **Evaluation:** `accuracy = evaluate(model, nodes, adjacency_matrix)` calls a separate `evaluate` function (not shown) to measure model performance on held-out data.\n",
        "- **Accuracy Reporting:** `print(f'Epoch {epoch+1}/{100}, Accuracy: {accuracy}')` prints evaluation accuracy.\n",
        "\n",
        "**Example (Node Classification):**\n",
        "\n",
        "- **Task:** Classify nodes in a social network based on their roles (e.g., influencer, follower).\n",
        "- **Input:** Node features (e.g., demographics, interests) and adjacency matrix representing connections.\n",
        "- **Model:** Graph neural network learns node representations that incorporate structural information.\n",
        "- **Loss:** Cross-entropy loss between predicted node classes and true labels.\n",
        "- **Evaluation:** Accuracy in classifying nodes correctly.\n",
        "\n",
        "**Key Points:**\n",
        "\n",
        "- Training loops iteratively update model parameters to improve performance.\n",
        "- Loss functions quantify performance and guide optimization.\n",
        "- Evaluation measures model's generalization capability on unseen data.\n",
        "- Learned embeddings can be used for various downstream tasks like link prediction, recommendation, or visualization.\n"
      ],
      "metadata": {
        "id": "fS8kahTLuEdh"
      }
    },
    {
      "cell_type": "code",
      "source": [
        "# Training loop (you may need a more sophisticated loop for a real-world scenario)\n",
        "for epoch in range(100):\n",
        "    model.train()\n",
        "    output = model(nodes, adjacency_matrix)\n",
        "    loss = criterion(output, nodes)\n",
        "\n",
        "    optimizer.zero_grad()\n",
        "    loss.backward()\n",
        "    optimizer.step()\n",
        "\n",
        "    print(f'Epoch {epoch+1}/{100}, Loss: {loss.item()}')\n",
        "\n",
        "    # Evaluation\n",
        "    if (epoch + 1) % 10 == 0:\n",
        "        accuracy = evaluate(model, nodes, adjacency_matrix)\n",
        "        print(f'Epoch {epoch+1}/{100}, Accuracy: {accuracy}')\n",
        "\n",
        "# After training, you can use the learned embeddings for downstream tasks or analysis.\n"
      ],
      "metadata": {
        "colab": {
          "base_uri": "https://localhost:8080/"
        },
        "id": "XKgK_3R8hZrQ",
        "outputId": "ca58fc5e-bc0f-44da-c31a-79dda6e41b98"
      },
      "execution_count": 11,
      "outputs": [
        {
          "output_type": "stream",
          "name": "stdout",
          "text": [
            "Epoch 1/100, Loss: 4.604150772094727\n",
            "Epoch 2/100, Loss: 4.602965831756592\n",
            "Epoch 3/100, Loss: 4.601781845092773\n",
            "Epoch 4/100, Loss: 4.6005964279174805\n",
            "Epoch 5/100, Loss: 4.599404811859131\n",
            "Epoch 6/100, Loss: 4.598201751708984\n",
            "Epoch 7/100, Loss: 4.596980094909668\n",
            "Epoch 8/100, Loss: 4.595734119415283\n",
            "Epoch 9/100, Loss: 4.594457149505615\n",
            "Epoch 10/100, Loss: 4.593146324157715\n",
            "Epoch 10/100, Accuracy: 0.02\n",
            "Epoch 11/100, Loss: 4.591797351837158\n",
            "Epoch 12/100, Loss: 4.5904083251953125\n",
            "Epoch 13/100, Loss: 4.588974475860596\n",
            "Epoch 14/100, Loss: 4.5874924659729\n",
            "Epoch 15/100, Loss: 4.585960865020752\n",
            "Epoch 16/100, Loss: 4.584374904632568\n",
            "Epoch 17/100, Loss: 4.582731246948242\n",
            "Epoch 18/100, Loss: 4.581026077270508\n",
            "Epoch 19/100, Loss: 4.579257011413574\n",
            "Epoch 20/100, Loss: 4.577418804168701\n",
            "Epoch 20/100, Accuracy: 0.02\n",
            "Epoch 21/100, Loss: 4.575507640838623\n",
            "Epoch 22/100, Loss: 4.573517799377441\n",
            "Epoch 23/100, Loss: 4.571444511413574\n",
            "Epoch 24/100, Loss: 4.569282054901123\n",
            "Epoch 25/100, Loss: 4.567025661468506\n",
            "Epoch 26/100, Loss: 4.564669132232666\n",
            "Epoch 27/100, Loss: 4.562207221984863\n",
            "Epoch 28/100, Loss: 4.559632778167725\n",
            "Epoch 29/100, Loss: 4.55694055557251\n",
            "Epoch 30/100, Loss: 4.554123401641846\n",
            "Epoch 30/100, Accuracy: 0.02\n",
            "Epoch 31/100, Loss: 4.551174163818359\n",
            "Epoch 32/100, Loss: 4.548086643218994\n",
            "Epoch 33/100, Loss: 4.5448527336120605\n",
            "Epoch 34/100, Loss: 4.541466236114502\n",
            "Epoch 35/100, Loss: 4.5379204750061035\n",
            "Epoch 36/100, Loss: 4.534206390380859\n",
            "Epoch 37/100, Loss: 4.530318260192871\n",
            "Epoch 38/100, Loss: 4.526247024536133\n",
            "Epoch 39/100, Loss: 4.521988391876221\n",
            "Epoch 40/100, Loss: 4.517533302307129\n",
            "Epoch 40/100, Accuracy: 0.02\n",
            "Epoch 41/100, Loss: 4.512876033782959\n",
            "Epoch 42/100, Loss: 4.50800895690918\n",
            "Epoch 43/100, Loss: 4.502925395965576\n",
            "Epoch 44/100, Loss: 4.497620105743408\n",
            "Epoch 45/100, Loss: 4.4920854568481445\n",
            "Epoch 46/100, Loss: 4.486316680908203\n",
            "Epoch 47/100, Loss: 4.4803080558776855\n",
            "Epoch 48/100, Loss: 4.474055767059326\n",
            "Epoch 49/100, Loss: 4.467555046081543\n",
            "Epoch 50/100, Loss: 4.460801601409912\n",
            "Epoch 50/100, Accuracy: 0.02\n",
            "Epoch 51/100, Loss: 4.453794479370117\n",
            "Epoch 52/100, Loss: 4.446530818939209\n",
            "Epoch 53/100, Loss: 4.439014911651611\n",
            "Epoch 54/100, Loss: 4.431247234344482\n",
            "Epoch 55/100, Loss: 4.423233985900879\n",
            "Epoch 56/100, Loss: 4.41498327255249\n",
            "Epoch 57/100, Loss: 4.406508445739746\n",
            "Epoch 58/100, Loss: 4.397823810577393\n",
            "Epoch 59/100, Loss: 4.388950347900391\n",
            "Epoch 60/100, Loss: 4.379912376403809\n",
            "Epoch 60/100, Accuracy: 0.03\n",
            "Epoch 61/100, Loss: 4.3707380294799805\n",
            "Epoch 62/100, Loss: 4.361461162567139\n",
            "Epoch 63/100, Loss: 4.3521199226379395\n",
            "Epoch 64/100, Loss: 4.342755317687988\n",
            "Epoch 65/100, Loss: 4.333415508270264\n",
            "Epoch 66/100, Loss: 4.324146270751953\n",
            "Epoch 67/100, Loss: 4.314993381500244\n",
            "Epoch 68/100, Loss: 4.306002616882324\n",
            "Epoch 69/100, Loss: 4.297210216522217\n",
            "Epoch 70/100, Loss: 4.288646697998047\n",
            "Epoch 70/100, Accuracy: 0.03\n",
            "Epoch 71/100, Loss: 4.280329704284668\n",
            "Epoch 72/100, Loss: 4.272267818450928\n",
            "Epoch 73/100, Loss: 4.264456272125244\n",
            "Epoch 74/100, Loss: 4.256883144378662\n",
            "Epoch 75/100, Loss: 4.249524116516113\n",
            "Epoch 76/100, Loss: 4.242351531982422\n",
            "Epoch 77/100, Loss: 4.235335826873779\n",
            "Epoch 78/100, Loss: 4.2284464836120605\n",
            "Epoch 79/100, Loss: 4.221659183502197\n",
            "Epoch 80/100, Loss: 4.2149577140808105\n",
            "Epoch 80/100, Accuracy: 0.03\n",
            "Epoch 81/100, Loss: 4.2083330154418945\n",
            "Epoch 82/100, Loss: 4.201786518096924\n",
            "Epoch 83/100, Loss: 4.195327281951904\n",
            "Epoch 84/100, Loss: 4.188972473144531\n",
            "Epoch 85/100, Loss: 4.182744026184082\n",
            "Epoch 86/100, Loss: 4.176662921905518\n",
            "Epoch 87/100, Loss: 4.170754909515381\n",
            "Epoch 88/100, Loss: 4.165039539337158\n",
            "Epoch 89/100, Loss: 4.159536838531494\n",
            "Epoch 90/100, Loss: 4.154259204864502\n",
            "Epoch 90/100, Accuracy: 0.03\n",
            "Epoch 91/100, Loss: 4.149215221405029\n",
            "Epoch 92/100, Loss: 4.144409656524658\n",
            "Epoch 93/100, Loss: 4.139841079711914\n",
            "Epoch 94/100, Loss: 4.135505199432373\n",
            "Epoch 95/100, Loss: 4.131394863128662\n",
            "Epoch 96/100, Loss: 4.127499580383301\n",
            "Epoch 97/100, Loss: 4.123806953430176\n",
            "Epoch 98/100, Loss: 4.120306015014648\n",
            "Epoch 99/100, Loss: 4.116982936859131\n",
            "Epoch 100/100, Loss: 4.113824367523193\n",
            "Epoch 100/100, Accuracy: 0.04\n"
          ]
        }
      ]
    },
    {
      "cell_type": "markdown",
      "source": [
        "# B)   Explainable AI and interpretable models for personalized experiences"
      ],
      "metadata": {
        "id": "WwJsQgbdh_pk"
      }
    },
    {
      "cell_type": "code",
      "source": [
        "!pip install scikit-learn shap\n"
      ],
      "metadata": {
        "colab": {
          "base_uri": "https://localhost:8080/"
        },
        "id": "A7g-bswpilXE",
        "outputId": "1ac1d257-4906-4dc0-ae3c-b52ae613cd4a"
      },
      "execution_count": 13,
      "outputs": [
        {
          "output_type": "stream",
          "name": "stdout",
          "text": [
            "Requirement already satisfied: scikit-learn in /usr/local/lib/python3.10/dist-packages (1.2.2)\n",
            "Collecting shap\n",
            "  Downloading shap-0.44.0-cp310-cp310-manylinux_2_12_x86_64.manylinux2010_x86_64.manylinux_2_17_x86_64.manylinux2014_x86_64.whl (533 kB)\n",
            "\u001b[2K     \u001b[90m━━━━━━━━━━━━━━━━━━━━━━━━━━━━━━━━━━━━━━━━\u001b[0m \u001b[32m533.5/533.5 kB\u001b[0m \u001b[31m4.4 MB/s\u001b[0m eta \u001b[36m0:00:00\u001b[0m\n",
            "\u001b[?25hRequirement already satisfied: numpy>=1.17.3 in /usr/local/lib/python3.10/dist-packages (from scikit-learn) (1.23.5)\n",
            "Requirement already satisfied: scipy>=1.3.2 in /usr/local/lib/python3.10/dist-packages (from scikit-learn) (1.11.4)\n",
            "Requirement already satisfied: joblib>=1.1.1 in /usr/local/lib/python3.10/dist-packages (from scikit-learn) (1.3.2)\n",
            "Requirement already satisfied: threadpoolctl>=2.0.0 in /usr/local/lib/python3.10/dist-packages (from scikit-learn) (3.2.0)\n",
            "Requirement already satisfied: pandas in /usr/local/lib/python3.10/dist-packages (from shap) (1.5.3)\n",
            "Requirement already satisfied: tqdm>=4.27.0 in /usr/local/lib/python3.10/dist-packages (from shap) (4.66.1)\n",
            "Requirement already satisfied: packaging>20.9 in /usr/local/lib/python3.10/dist-packages (from shap) (23.2)\n",
            "Collecting slicer==0.0.7 (from shap)\n",
            "  Downloading slicer-0.0.7-py3-none-any.whl (14 kB)\n",
            "Requirement already satisfied: numba in /usr/local/lib/python3.10/dist-packages (from shap) (0.58.1)\n",
            "Requirement already satisfied: cloudpickle in /usr/local/lib/python3.10/dist-packages (from shap) (2.2.1)\n",
            "Requirement already satisfied: llvmlite<0.42,>=0.41.0dev0 in /usr/local/lib/python3.10/dist-packages (from numba->shap) (0.41.1)\n",
            "Requirement already satisfied: python-dateutil>=2.8.1 in /usr/local/lib/python3.10/dist-packages (from pandas->shap) (2.8.2)\n",
            "Requirement already satisfied: pytz>=2020.1 in /usr/local/lib/python3.10/dist-packages (from pandas->shap) (2023.3.post1)\n",
            "Requirement already satisfied: six>=1.5 in /usr/local/lib/python3.10/dist-packages (from python-dateutil>=2.8.1->pandas->shap) (1.16.0)\n",
            "Installing collected packages: slicer, shap\n",
            "Successfully installed shap-0.44.0 slicer-0.0.7\n"
          ]
        }
      ]
    },
    {
      "cell_type": "code",
      "source": [
        "#Use if required\n",
        "#shap.initjs()"
      ],
      "metadata": {
        "id": "Kw7W2qzZjVfO"
      },
      "execution_count": 20,
      "outputs": []
    },
    {
      "cell_type": "code",
      "source": [
        "import numpy as np\n",
        "import pandas as pd\n",
        "from sklearn.model_selection import train_test_split\n",
        "from sklearn.tree import DecisionTreeClassifier\n",
        "import shap"
      ],
      "metadata": {
        "id": "XzCcelZ3uMED"
      },
      "execution_count": 35,
      "outputs": []
    },
    {
      "cell_type": "markdown",
      "source": [
        "\n",
        "**Generating Dummy Data:**\n",
        "\n",
        "- **Setting Up:**\n",
        "   - `np.random.seed(42)`: Fixes the random seed to ensure reproducibility of the generated data.\n",
        "   - `num_users = 1000`: Specifies 1000 users for the simulation.\n",
        "- **Creating DataFrame:**\n",
        "   - `user_features` is a DataFrame with 6 columns representing user attributes:\n",
        "     - `Age`: Randomly generated ages between 18 and 65.\n",
        "     - `FriendCount`: Random number of friends from 0 to 100.\n",
        "     - `PostCount`: Random number of posts from 0 to 50.\n",
        "     - `LikesReceived`: Random number of likes from 0 to 200.\n",
        "     - `EngagementScore`: Random engagement scores between 0 and 1.\n",
        "     - `PersonalizedExperience`: Randomly assigned 0 or 1, indicating whether a user has a personalized experience.\n",
        "\n",
        "**Splitting Data:**\n",
        "\n",
        "- **Separating Features and Target:**\n",
        "   - `X` contains all features except `PersonalizedExperience`.\n",
        "   - `y` contains the target variable `PersonalizedExperience`.\n",
        "- **Training and Testing Sets:**\n",
        "   - `train_test_split` splits the data into 80% for training (`X_train`, `y_train`) and 20% for testing (`X_test`, `y_test`).\n",
        "     - `test_size=0.2`: Specifies the proportion for the test set.\n",
        "     - `random_state=42`: Ensures consistent split across runs.\n",
        "\n",
        "**Example:**\n",
        "\n",
        "Consider a user with the following features:\n",
        "\n",
        "- `Age`: 35\n",
        "- `FriendCount`: 54\n",
        "- `PostCount`: 22\n",
        "- `LikesReceived`: 115\n",
        "- `EngagementScore`: 0.72\n",
        "\n",
        "This user's data would contribute to training a model to predict whether they have a personalized experience (`PersonalizedExperience` being 0 or 1).\n",
        "\n",
        "**Key Points:**\n",
        "\n",
        "- Dummy data is often used for prototyping and testing before working with real data.\n",
        "- Splitting data into training and testing sets helps evaluate model performance and prevent overfitting.\n",
        "- Understanding data structure and splitting techniques is crucial for machine learning tasks.\n"
      ],
      "metadata": {
        "id": "XwVWjJCfucgg"
      }
    },
    {
      "cell_type": "code",
      "source": [
        "# Generate dummy social network data\n",
        "np.random.seed(42)\n",
        "num_users = 1000\n",
        "user_features = pd.DataFrame({\n",
        "    'Age': np.random.randint(18, 65, num_users),\n",
        "    'FriendCount': np.random.randint(0, 100, num_users),\n",
        "    'PostCount': np.random.randint(0, 50, num_users),\n",
        "    'LikesReceived': np.random.randint(0, 200, num_users),\n",
        "    'EngagementScore': np.random.uniform(0, 1, num_users),\n",
        "    'PersonalizedExperience': np.random.choice([0, 1], num_users)\n",
        "})\n",
        "\n",
        "# Split the data into training and testing sets\n",
        "X = user_features.drop('PersonalizedExperience', axis=1)\n",
        "y = user_features['PersonalizedExperience']\n",
        "X_train, X_test, y_train, y_test = train_test_split(X, y, test_size=0.2, random_state=42)"
      ],
      "metadata": {
        "id": "M2KDGbSHuP3f"
      },
      "execution_count": 36,
      "outputs": []
    },
    {
      "cell_type": "markdown",
      "source": [
        "\n",
        "**Training a Decision Tree Model:**\n",
        "\n",
        "1. **Model Creation:** `model = DecisionTreeClassifier(random_state=42)` creates a decision tree model for classification tasks.\n",
        "2. **Model Training:** `model.fit(X_train, y_train)` trains the model using the training data (`X_train`) and their corresponding labels (`y_train`).\n",
        "\n",
        "**Explaining with SHAP Values:**\n",
        "\n",
        "1. **Model Explainer:** `explainer = shap.TreeExplainer(model)` creates a SHAP explainer specifically designed for tree-based models.\n",
        "2. **SHAP Value Calculation:** `shap_values = explainer.shap_values(X_test)` computes SHAP values for the test data (`X_test`), revealing how each feature contributes to individual predictions.\n",
        "\n",
        "**Visualizing Explanations:**\n",
        "\n",
        "1. **Summary Plot:** `shap.summary_plot(shap_values, X_test)` provides a global overview of feature importance and their impact on predictions.\n",
        "   - Features pushing predictions towards a higher value are shown in red.\n",
        "   - Features pushing predictions lower are in blue.\n",
        "2. **Force Plot (Commented Out):** `shap.force_plot(explainer.expected_value[1], shap_values[1][sample_index], X_test.iloc[sample_index, :])` visualizes explanations for a specific prediction, but it's not executed in this code.\n",
        "\n",
        "**Example:**\n",
        "\n",
        "Consider predicting loan approval based on features like income, credit score, and debt:\n",
        "\n",
        "- **Summary Plot:** Might reveal that high income and credit scores strongly push predictions towards approval, while high debt pushes towards denial.\n",
        "- **Force Plot:** For a specific applicant, might show income strongly contributing to approval, but credit score slightly mitigating that effect due to a minor negative contribution.\n",
        "\n",
        "**Key Points:**\n",
        "\n",
        "- SHAP values quantify feature contributions to individual predictions.\n",
        "- Decision trees are inherently interpretable, but SHAP provides deeper insights.\n",
        "- Visualizations help understand model behavior and identify influential features.\n"
      ],
      "metadata": {
        "id": "IIXERJU4uquF"
      }
    },
    {
      "cell_type": "code",
      "source": [
        "# Train a decision tree model\n",
        "model = DecisionTreeClassifier(random_state=42)\n",
        "model.fit(X_train, y_train)\n",
        "\n",
        "# Explain the model using SHAP values\n",
        "explainer = shap.TreeExplainer(model)\n",
        "shap_values = explainer.shap_values(X_test)\n",
        "\n",
        "# Visualize a specific prediction\n",
        "sample_index = 0\n",
        "#shap.force_plot(explainer.expected_value[1], shap_values[1][sample_index], X_test.iloc[sample_index, :])\n",
        "shap.summary_plot(shap_values, X_test)\n"
      ],
      "metadata": {
        "colab": {
          "base_uri": "https://localhost:8080/",
          "height": 357
        },
        "id": "0lqV2cIUh0RF",
        "outputId": "1418006f-9dbf-4862-ff39-201e85c225e3"
      },
      "execution_count": 18,
      "outputs": [
        {
          "output_type": "display_data",
          "data": {
            "text/plain": [
              "<Figure size 800x350 with 1 Axes>"
            ],
            "image/png": "[encoded data removed]"
          },
          "metadata": {}
        }
      ]
    },
    {
      "cell_type": "markdown",
      "source": [
        "# C)   \tMulti-objective optimization and balancing competing goals"
      ],
      "metadata": {
        "id": "UoTDHEJ5jm01"
      }
    },
    {
      "cell_type": "code",
      "source": [
        "!pip install deap matplotlib"
      ],
      "metadata": {
        "colab": {
          "base_uri": "https://localhost:8080/"
        },
        "id": "DDxV2Ehrj8V8",
        "outputId": "51106c1b-6c44-4fb8-cfe6-98fc2587d64f"
      },
      "execution_count": 22,
      "outputs": [
        {
          "output_type": "stream",
          "name": "stdout",
          "text": [
            "Collecting deap\n",
            "  Downloading deap-1.4.1-cp310-cp310-manylinux_2_5_x86_64.manylinux1_x86_64.manylinux_2_17_x86_64.manylinux2014_x86_64.whl (135 kB)\n",
            "\u001b[2K     \u001b[90m━━━━━━━━━━━━━━━━━━━━━━━━━━━━━━━━━━━━━━━━\u001b[0m \u001b[32m135.4/135.4 kB\u001b[0m \u001b[31m1.5 MB/s\u001b[0m eta \u001b[36m0:00:00\u001b[0m\n",
            "\u001b[?25hRequirement already satisfied: matplotlib in /usr/local/lib/python3.10/dist-packages (3.7.1)\n",
            "Requirement already satisfied: numpy in /usr/local/lib/python3.10/dist-packages (from deap) (1.23.5)\n",
            "Requirement already satisfied: contourpy>=1.0.1 in /usr/local/lib/python3.10/dist-packages (from matplotlib) (1.2.0)\n",
            "Requirement already satisfied: cycler>=0.10 in /usr/local/lib/python3.10/dist-packages (from matplotlib) (0.12.1)\n",
            "Requirement already satisfied: fonttools>=4.22.0 in /usr/local/lib/python3.10/dist-packages (from matplotlib) (4.47.2)\n",
            "Requirement already satisfied: kiwisolver>=1.0.1 in /usr/local/lib/python3.10/dist-packages (from matplotlib) (1.4.5)\n",
            "Requirement already satisfied: packaging>=20.0 in /usr/local/lib/python3.10/dist-packages (from matplotlib) (23.2)\n",
            "Requirement already satisfied: pillow>=6.2.0 in /usr/local/lib/python3.10/dist-packages (from matplotlib) (9.4.0)\n",
            "Requirement already satisfied: pyparsing>=2.3.1 in /usr/local/lib/python3.10/dist-packages (from matplotlib) (3.1.1)\n",
            "Requirement already satisfied: python-dateutil>=2.7 in /usr/local/lib/python3.10/dist-packages (from matplotlib) (2.8.2)\n",
            "Requirement already satisfied: six>=1.5 in /usr/local/lib/python3.10/dist-packages (from python-dateutil>=2.7->matplotlib) (1.16.0)\n",
            "Installing collected packages: deap\n",
            "Successfully installed deap-1.4.1\n"
          ]
        }
      ]
    },
    {
      "cell_type": "code",
      "source": [
        "import random\n",
        "from deap import base, creator, tools, algorithms"
      ],
      "metadata": {
        "id": "--gYhfZmuwFl"
      },
      "execution_count": 37,
      "outputs": []
    },
    {
      "cell_type": "markdown",
      "source": [
        "\n",
        "**Setting Up Multi-Objective Optimization:**\n",
        "\n",
        "- **Defining Fitness:**\n",
        "   - `creator.create(\"FitnessMulti\", base.Fitness, weights=(1.0, -1.0))`: Creates a custom fitness class for multi-objective optimization.\n",
        "     - `weights=(1.0, -1.0)` indicates maximizing the first objective (user engagement) and minimizing the second (network robustness).\n",
        "- **Creating Individuals:**\n",
        "   - `creator.create(\"Individual\", list, fitness=creator.FitnessMulti)` defines individuals as lists, each representing a solution, with their fitness calculated using `FitnessMulti`.\n",
        "\n",
        "**Evaluating Individuals:**\n",
        "\n",
        "- **Function for Assessment:**\n",
        "   - `def evaluate(individual)`: Takes an individual's attributes (user engagement and network robustness) and assigns fitness values.\n",
        "     - **Placeholder Fitness Functions:** The provided `fitness1` and `fitness2` are placeholders; replace them with your specific evaluation criteria.\n",
        "\n",
        "**Toolbox Initialization:**\n",
        "\n",
        "- **Preparing for Genetic Algorithm:**\n",
        "   - `toolbox = base.Toolbox()` creates a toolbox, a common structure in genetic algorithms to store tools for evolutionary operations.\n",
        "\n",
        "**Example:**\n",
        "\n",
        "Imagine designing a social network:\n",
        "\n",
        "- **Objectives:**\n",
        "   - Maximize user engagement (measured by time spent, interactions, etc.).\n",
        "   - Minimize network vulnerability to disruptions (measured by resilience to node failures).\n",
        "- **Individuals:**\n",
        "   - Each individual represents a network configuration (features, algorithms, etc.).\n",
        "- **Evaluation:**\n",
        "   - `evaluate` function assesses each configuration's performance on both objectives.\n",
        "\n",
        "**Key Points:**\n",
        "\n",
        "- Multi-objective optimization balances multiple, often conflicting goals.\n",
        "- Genetic algorithms can find solutions that effectively trade off between objectives.\n",
        "- Thoroughly define fitness functions to accurately measure solution quality.\n"
      ],
      "metadata": {
        "id": "eUf69aDpu_0S"
      }
    },
    {
      "cell_type": "code",
      "source": [
        "# Define the problem as a multi-objective optimization problem\n",
        "creator.create(\"FitnessMulti\", base.Fitness, weights=(1.0, -1.0))  # Maximizing user engagement, minimizing network robustness\n",
        "creator.create(\"Individual\", list, fitness=creator.FitnessMulti)\n",
        "\n",
        "# Function to evaluate an individual's performance\n",
        "def evaluate(individual):\n",
        "    user_engagement = individual[0]\n",
        "    network_robustness = individual[1]\n",
        "\n",
        "    # Some arbitrary fitness functions (replace with your own)\n",
        "    fitness1 = user_engagement\n",
        "    fitness2 = -network_robustness  # Negative because we're minimizing this objective\n",
        "\n",
        "    return fitness1, fitness2\n",
        "\n",
        "toolbox = base.Toolbox()"
      ],
      "metadata": {
        "id": "vvU0LVPcuy6V"
      },
      "execution_count": 39,
      "outputs": []
    },
    {
      "cell_type": "markdown",
      "source": [
        "\n",
        "**Setting Up a Genetic Algorithm:**\n",
        "\n",
        "- **Toolbox:** It's a container for functions and classes used in the genetic algorithm process.\n",
        "\n",
        "**Functions and Operators:**\n",
        "\n",
        "- **`attr_float`:** Generates random floating-point numbers between 0 and 1, used to create individual attributes.\n",
        "- **`individual`:** Creates individuals (candidate solutions) with 2 float attributes.\n",
        "- **`population`:** Creates a population of individuals (a list of individuals).\n",
        "- **`mate`:** Crossover operator, blending attributes of two parents to create offspring.\n",
        "- **`mutate`:** Mutation operator, randomly modifying attributes to introduce diversity.\n",
        "- **`select`:** Selection operator, choosing individuals for the next generation based on their fitness (NSGA-2 method for multi-objective optimization).\n",
        "- **`evaluate`:** Function to evaluate fitness of individuals (not defined in the snippet).\n",
        "\n",
        "**Example:**\n",
        "\n",
        "- **Problem:** Optimize a design with two parameters (length and width) for multiple objectives (strength and cost).\n",
        "- **Individual:** Represents a design with attributes (length, width).\n",
        "- **Initial Population:** 50 randomly generated designs.\n",
        "- **Evolution:**\n",
        "    - Evaluate fitness of each design (strength and cost).\n",
        "    - Select promising designs using NSGA-2.\n",
        "    - Create new designs through crossover and mutation.\n",
        "    - Repeat for 50 generations.\n",
        "- **Goal:** Find designs that balance strength and cost effectively.\n",
        "\n",
        "**Key Points:**\n",
        "\n",
        "- Genetic algorithms iteratively evolve solutions using principles inspired by natural selection.\n",
        "- They explore a wide range of potential solutions and can handle complex optimization problems.\n",
        "- The choice of operators and parameters influences the algorithm's behavior and effectiveness.\n"
      ],
      "metadata": {
        "id": "FQuRlxn4vOHE"
      }
    },
    {
      "cell_type": "code",
      "source": [
        "# Attribute generator\n",
        "toolbox.register(\"attr_float\", random.uniform, 0, 1)\n",
        "\n",
        "# Structure initializers\n",
        "toolbox.register(\"individual\", tools.initRepeat, creator.Individual, toolbox.attr_float, n=2)\n",
        "toolbox.register(\"population\", tools.initRepeat, list, toolbox.individual)\n",
        "\n",
        "toolbox.register(\"mate\", tools.cxBlend, alpha=0.5)\n",
        "toolbox.register(\"mutate\", tools.mutGaussian, mu=0, sigma=1, indpb=0.2)\n",
        "toolbox.register(\"select\", tools.selNSGA2)\n",
        "\n",
        "toolbox.register(\"evaluate\", evaluate)\n",
        "\n",
        "# Create a population of individuals\n",
        "population = toolbox.population(n=50)\n",
        "\n",
        "# Number of generations\n",
        "num_generations = 50"
      ],
      "metadata": {
        "id": "zmuiEV7hvFPw"
      },
      "execution_count": 40,
      "outputs": []
    },
    {
      "cell_type": "markdown",
      "source": [
        "\n",
        "**Code Breakdown:**\n",
        "\n",
        "1. **Evaluating Population:**\n",
        "   - `fitnesses = list(map(toolbox.evaluate, population))`: Calculates fitness values for each individual in the population using a provided `toolbox` (likely containing evaluation functions).\n",
        "   - `for ind, fit in zip(population, fitnesses): ind.fitness.values = fit`: Assigns the calculated fitness values to their corresponding individuals.\n",
        "\n",
        "2. **Setting Probabilities:**\n",
        "   - `cx_prob = 0.7`: Sets the probability of crossover (combining individuals to create new ones) to 70%.\n",
        "   - `mut_prob = 0.2`: Sets the probability of mutation (randomly altering individuals) to 20%.\n",
        "\n",
        "3. **Running Genetic Algorithm:**\n",
        "   - `algorithms.eaMuPlusLambda(...)`: Implements a multi-objective genetic algorithm with the specified parameters:\n",
        "     - `population`: The initial population of individuals.\n",
        "     - `toolbox`: Contains functions for evaluation, crossover, mutation, etc.\n",
        "     - `mu` and `lambda_`: Population sizes for different stages of the algorithm.\n",
        "     - `cxpb`: Crossover probability.\n",
        "     - `mutpb`: Mutation probability.\n",
        "     - `ngen`: Number of generations to run.\n",
        "     - `stats` and `halloffame`: Optional mechanisms for tracking statistics and best solutions.\n",
        "\n",
        "4. **Identifying Pareto Front:**\n",
        "   - `pareto_front = tools.sortNondominated(...)`: Finds the Pareto-optimal solutions, representing trade-offs between different objectives.\n",
        "\n",
        "5. **Displaying Pareto Front:**\n",
        "   - Prints the fitness values of the Pareto front solutions.\n",
        "\n",
        "**Example:**\n",
        "\n",
        "Imagine optimizing a backpack for weight and value:\n",
        "\n",
        "- **Individuals:** Represent backpack combinations (item selections).\n",
        "- **Toolbox:** Contains functions to evaluate weight and value.\n",
        "- **Genetic Algorithm:** Evolves backpack combinations, balancing weight and value.\n",
        "- **Pareto Front:** Shows optimal solutions with different weight-value trade-offs.\n",
        "\n",
        "**Key Points:**\n",
        "\n",
        "- Genetic algorithms mimic natural selection for optimization.\n",
        "- Fitness scores guide evolution towards better solutions.\n",
        "- Crossover and mutation create diversity.\n",
        "- Pareto front visualizes optimal solutions in multi-objective problems.\n"
      ],
      "metadata": {
        "id": "CKFbj8PIvavD"
      }
    },
    {
      "cell_type": "code",
      "source": [
        "# Evaluate the entire population\n",
        "fitnesses = list(map(toolbox.evaluate, population))\n",
        "for ind, fit in zip(population, fitnesses):\n",
        "    ind.fitness.values = fit\n",
        "\n",
        "# Crossover and Mutation probabilities\n",
        "cx_prob = 0.7\n",
        "mut_prob = 0.2\n",
        "\n",
        "# Genetic Algorithm\n",
        "algorithms.eaMuPlusLambda(population, toolbox, mu=50, lambda_=100, cxpb=cx_prob, mutpb=mut_prob, ngen=num_generations,\n",
        "                          stats=None, halloffame=None, verbose=True)\n",
        "\n",
        "# Display the Pareto front solutions\n",
        "pareto_front = tools.sortNondominated(population, len(population), first_front_only=True)[0]\n",
        "\n",
        "print(\"Pareto Front:\")\n",
        "for ind in pareto_front:\n",
        "    print(ind.fitness.values)\n"
      ],
      "metadata": {
        "colab": {
          "base_uri": "https://localhost:8080/"
        },
        "id": "cGysQ13wjO-k",
        "outputId": "bed010fe-b7b1-4cdf-f648-974ef080b6aa"
      },
      "execution_count": 29,
      "outputs": [
        {
          "output_type": "stream",
          "name": "stdout",
          "text": [
            "gen\tnevals\n",
            "0  \t0     \n",
            "1  \t94    \n",
            "2  \t91    \n",
            "3  \t89    \n",
            "4  \t94    \n",
            "5  \t91    \n",
            "6  \t89    \n",
            "7  \t88    \n",
            "8  \t90    \n",
            "9  \t89    \n",
            "10 \t89    \n",
            "11 \t94    \n",
            "12 \t91    \n",
            "13 \t90    \n",
            "14 \t90    \n",
            "15 \t87    \n",
            "16 \t87    \n",
            "17 \t87    \n",
            "18 \t91    \n",
            "19 \t90    \n",
            "20 \t89    \n",
            "21 \t92    \n",
            "22 \t92    \n",
            "23 \t89    \n",
            "24 \t92    \n",
            "25 \t91    \n",
            "26 \t90    \n",
            "27 \t90    \n",
            "28 \t89    \n",
            "29 \t92    \n",
            "30 \t91    \n",
            "31 \t90    \n",
            "32 \t86    \n",
            "33 \t93    \n",
            "34 \t88    \n",
            "35 \t87    \n",
            "36 \t96    \n",
            "37 \t87    \n",
            "38 \t89    \n",
            "39 \t89    \n",
            "40 \t90    \n",
            "41 \t90    \n",
            "42 \t91    \n",
            "43 \t85    \n",
            "44 \t86    \n",
            "45 \t93    \n",
            "46 \t89    \n",
            "47 \t82    \n",
            "48 \t86    \n",
            "49 \t91    \n",
            "50 \t89    \n",
            "Pareto Front:\n",
            "(87.93372480349267, -21.443154827328918)\n",
            "(75.67804875352017, -24.72633460141438)\n",
            "(72.0792181911892, -26.04769345306021)\n",
            "(80.24195680506442, -24.41059410656434)\n",
            "(80.66404488657781, -23.303595482014718)\n",
            "(86.02837858287008, -22.996779603204708)\n"
          ]
        }
      ]
    },
    {
      "cell_type": "code",
      "source": [],
      "metadata": {
        "id": "X2z6RJkYj5kC"
      },
      "execution_count": null,
      "outputs": []
    }
  ]
}